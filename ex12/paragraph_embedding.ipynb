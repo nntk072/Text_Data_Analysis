{
 "cells": [
  {
   "cell_type": "code",
   "execution_count": 37,
   "metadata": {},
   "outputs": [
    {
     "name": "stderr",
     "output_type": "stream",
     "text": [
      "[nltk_data] Downloading package averaged_perceptron_tagger to\n",
      "[nltk_data]     C:\\Users\\nguye\\AppData\\Roaming\\nltk_data...\n",
      "[nltk_data]   Package averaged_perceptron_tagger is already up-to-\n",
      "[nltk_data]       date!\n",
      "[nltk_data] Downloading package wordnet to\n",
      "[nltk_data]     C:\\Users\\nguye\\AppData\\Roaming\\nltk_data...\n",
      "[nltk_data]   Package wordnet is already up-to-date!\n"
     ]
    },
    {
     "data": {
      "text/plain": [
       "True"
      ]
     },
     "execution_count": 37,
     "metadata": {},
     "output_type": "execute_result"
    }
   ],
   "source": [
    "import requests\n",
    "import re\n",
    "import os\n",
    "import nltk\n",
    "import bs4\n",
    "import scipy\n",
    "import numpy\n",
    "import numpy.matlib\n",
    "import random\n",
    "\n",
    "import sys\n",
    "\n",
    "# Download tagger and wordnet resources if you do not have them already\n",
    "nltk.download(\"averaged_perceptron_tagger\")\n",
    "nltk.download(\"wordnet\")"
   ]
  },
  {
   "cell_type": "code",
   "execution_count": 38,
   "metadata": {},
   "outputs": [],
   "source": [
    "#%% Getting a list of directory contents\n",
    "def gettextlist(directory_path):\n",
    "    directory_textfiles=[]\n",
    "    directory_nontextfiles=[]\n",
    "    directory_nonfiles=[]\n",
    "    # Process each item in the directory\n",
    "    directory_contents=os.listdir(directory_path)\n",
    "    for contentitem in directory_contents:\n",
    "        temp_fullpath=os.path.join(directory_path, contentitem)\n",
    "        # Non-files (e.g. subdirectories) are stored separately\n",
    "        if os.path.isfile(temp_fullpath)==0:\n",
    "            directory_nonfiles.append(contentitem)\n",
    "        else:\n",
    "            # Is this a non-text file (not ending in .txt)?\n",
    "            if temp_fullpath.find('.txt')==-1:\n",
    "                directory_nontextfiles.append(contentitem)\n",
    "            else:\n",
    "                # This is a text file\n",
    "                directory_textfiles.append(contentitem)\n",
    "    return(directory_textfiles,directory_nontextfiles,directory_nonfiles)"
   ]
  },
  {
   "cell_type": "code",
   "execution_count": 39,
   "metadata": {},
   "outputs": [],
   "source": [
    "# %% Basic file crawler\n",
    "def basicfilecrawler(directory_path):\n",
    "    # Store filenames read and their text content\n",
    "    num_files_read = 0\n",
    "    crawled_filenames = []\n",
    "    crawled_texts = []\n",
    "    directory_contentlists = gettextlist(directory_path)\n",
    "    # In this basic crawled we just process text files\n",
    "    # and do not handle subdirectories\n",
    "    # directory_textfiles=directory_contentlists[0]\n",
    "    directory_textfiles = directory_contentlists[1]\n",
    "    for contentitem in directory_textfiles:\n",
    "        # print('Reading file:')\n",
    "        # print(contentitem)\n",
    "        # Open the file and read its contents\n",
    "        temp_fullpath = os.path.join(directory_path, contentitem)\n",
    "        temp_file = open(temp_fullpath, \"r\", encoding=\"utf-8\", errors=\"ignore\")\n",
    "        temp_text = temp_file.read()\n",
    "        temp_file.close()\n",
    "        # Store the read filename and content\n",
    "        crawled_filenames.append(contentitem)\n",
    "        crawled_texts.append(temp_text)\n",
    "        num_files_read = num_files_read + 1\n",
    "    return (crawled_filenames, crawled_texts)"
   ]
  },
  {
   "cell_type": "code",
   "execution_count": 40,
   "metadata": {},
   "outputs": [],
   "source": [
    "def read_folder(folder):\n",
    "    # Read the folder contents and return the list of folder names (not including the subfolders)\n",
    "    # and the list of file names\n",
    "    folder_names=[]\n",
    "    for root, dirs, files in os.walk(folder):\n",
    "        for name in dirs:\n",
    "            folder_names.append(os.path.join(root, name))\n",
    "    return folder_names"
   ]
  },
  {
   "cell_type": "code",
   "execution_count": 41,
   "metadata": {},
   "outputs": [
    {
     "name": "stdout",
     "output_type": "stream",
     "text": [
      "['20_newsgroups\\\\alt.atheism', '20_newsgroups\\\\comp.graphics', '20_newsgroups\\\\comp.os.ms-windows.misc', '20_newsgroups\\\\comp.sys.ibm.pc.hardware', '20_newsgroups\\\\comp.sys.mac.hardware', '20_newsgroups\\\\comp.windows.x', '20_newsgroups\\\\misc.forsale', '20_newsgroups\\\\rec.autos', '20_newsgroups\\\\rec.motorcycles', '20_newsgroups\\\\rec.sport.baseball', '20_newsgroups\\\\rec.sport.hockey', '20_newsgroups\\\\sci.crypt', '20_newsgroups\\\\sci.electronics', '20_newsgroups\\\\sci.med', '20_newsgroups\\\\sci.space', '20_newsgroups\\\\soc.religion.christian', '20_newsgroups\\\\talk.politics.guns', '20_newsgroups\\\\talk.politics.mideast', '20_newsgroups\\\\talk.politics.misc', '20_newsgroups\\\\talk.religion.misc']\n"
     ]
    }
   ],
   "source": [
    "# Read the folder contents\n",
    "file_list = read_folder(\n",
    "    \"20_newsgroups\"\n",
    ")\n",
    "print(file_list)"
   ]
  },
  {
   "cell_type": "code",
   "execution_count": 42,
   "metadata": {},
   "outputs": [
    {
     "name": "stdout",
     "output_type": "stream",
     "text": [
      "[7, 8, 9, 10]\n",
      "20_newsgroups\\rec.autos\n"
     ]
    }
   ],
   "source": [
    "# Create a list of the folders to be read\n",
    "folders_to_read = [\n",
    "    \"rec.autos\",\n",
    "    \"rec.motorcycles\",\n",
    "    \"rec.sport.baseball\",\n",
    "    \"rec.sport.hockey\",\n",
    "]\n",
    "\n",
    "# Find the indices of the folders to be read in file_list and store them in a list\n",
    "indices_to_read = []\n",
    "for i in range(len(file_list)):\n",
    "    # Check if the folder name is in the list of folders to be read (match the last part of the path)\n",
    "    if file_list[i].split(\"\\\\\")[-1] in folders_to_read:\n",
    "        indices_to_read.append(i)\n",
    "\n",
    "print(indices_to_read)\n",
    "\n",
    "print(file_list[indices_to_read[0]])\n",
    "rec_autos_filenames, rec_autos_texts = basicfilecrawler(file_list[indices_to_read[0]])\n",
    "rec_motorcycles_filenames, rec_motorcycles_texts = basicfilecrawler(\n",
    "    file_list[indices_to_read[1]]\n",
    ")\n",
    "rec_sport_baseball_filenames, rec_sport_baseball_texts = basicfilecrawler(\n",
    "    file_list[indices_to_read[2]]\n",
    ")\n",
    "rec_sport_hockey_filenames, rec_sport_hockey_texts = basicfilecrawler(\n",
    "    file_list[indices_to_read[3]]\n",
    ")"
   ]
  },
  {
   "cell_type": "code",
   "execution_count": 43,
   "metadata": {},
   "outputs": [
    {
     "name": "stdout",
     "output_type": "stream",
     "text": [
      "['101551', '101552', '101553', '101554', '101555']\n",
      "[\"Path: cantaloupe.srv.cs.cmu.edu!das-news.harvard.edu!ogicse!uwm.edu!wupost!uunet!brunix!cs.brown.edu!cs012055\\nFrom: cs012055@cs.brown.edu (Hok-Chung Tsang)\\nNewsgroups: rec.autos\\nSubject: Re: Saturn's Pricing Policy\\nMessage-ID: <1993Apr5.230808.581@cs.brown.edu>\\nDate: 5 Apr 93 23:08:08 GMT\\nArticle-I.D.: cs.1993Apr5.230808.581\\nReferences: <C4oxwp.KKM@news.cso.uiuc.edu> <C4vIr5.L3r@shuksan.ds.boeing.com>\\nSender: news@cs.brown.edu\\nOrganization: Brown Computer Science Dept.\\nLines: 51\\n\\nIn article <C4vIr5.L3r@shuksan.ds.boeing.com>, fredd@shuksan (Fred Dickey) writes:\\n|> CarolinaFan@uiuc (cka52397@uxa.cso.uiuc.edu) wrote:\\n|> : \\tI have been active in defending Saturn lately on the net and would\\n|> : like to state my full opinion on the subject, rather than just reply to others'\\n|> : points.\\n|> : \\t\\n|> : \\tThe biggest problem some people seem to be having is that Saturn\\n|> : Dealers make ~$2K on a car.  I think most will agree with me that the car is\\n|> : comparably priced with its competitors, that is, they aren't overpriced \\n|> : compared to most cars in their class.  I don't understand the point of \\n|> : arguing over whether the dealer makes the $2K or not?  \\n|> \\n|> I have never understood what the big deal over dealer profits is either.\\n|> The only thing that I can figure out is that people believe that if\\n|> they minimize the dealer profit they will minimize their total out-of-pocket\\n|> expenses for the car. While this may be true in some cases, I do not\\n|> believe that it is generally true. I bought a Saturn SL in January of '92.\\n|> AT THAT TIME, based on studying car prices, I decided that there was\\n|> no comparable car that was priced as cheaply as the Saturn. Sure, maybe I\\n|> could have talked the price for some other car to the Saturn price, but\\n|> my out-of-pocket expenses wouldn't have been any different. What's important\\n|> to me is how much money I have left after I buy the car. REDUCING DEALER PROFIT\\n|> IS NOT THE SAME THING AS SAVING MONEY! Show me how reducing dealer profit\\n|> saves me money, and I'll believe that it's important. My experience has\\n|> been that reducing dealer profit does not necessarily save me money.\\n|> \\n|> Fred\\n\\n\\nSay, you bought your Saturn at $13k, with a dealer profit of $2k.\\nIf the dealer profit is $1000, then you would only be paying $12k for\\nthe same car.  So isn't that saving money?\\n\\nMoreover, if Saturn really does reduce the dealer profit margin by $1000, \\nthen their cars will be even better deals.  Say, if the price of a Saturn was\\nalready $1000 below market average for the class of cars, then after they\\nreduce the dealer profit, it would be $2000 below market average.  It will:\\n\\n1) Attract even more people to buy Saturns because it would SAVE THEM MONEY.\\n \\n2) Force the competitors to lower their prices to survive.\\n\\nNow, not only will Saturn owners benefit from a lower dealer profit, even \\nthe buyers for other cars will pay less.\\n\\nIsn't that saving money?\\n\\n\\n\\n$0.02,\\ndoug.\\n\", \"Newsgroups: rec.autos\\nPath: cantaloupe.srv.cs.cmu.edu!crabapple.srv.cs.cmu.edu!fs7.ece.cmu.edu!europa.eng.gtefsd.com!gatech!usenet.ins.cwru.edu!agate!headwall.Stanford.EDU!nntp.Stanford.EDU!tedebear\\nFrom: tedebear@leland.Stanford.EDU (Theodore Chen)\\nSubject: Re: Are BMW's worth the price?                      \\nMessage-ID: <1993Apr5.183248.25040@leland.Stanford.EDU>\\nSender: news@leland.Stanford.EDU (Mr News)\\nOrganization: DSG, Stanford University, CA 94305, USA\\nReferences: <1993Apr5.135153.11132@wdl.loral.com>\\nDate: Mon, 5 Apr 93 18:32:48 GMT\\nLines: 19\\n\\nIn article <1993Apr5.135153.11132@wdl.loral.com> gwm@spl1.spl.loral.com (Gary W. Mahan) writes:\\n>Road and Track (2/88) BMW325is     0-60 7.5s, 1/4 mile 15.7s\\n>               (Road Test \\n>                Annual 1993)       0-60 8.3s, 1/4 mile 16.2s\\n>\\n>\\n>Those are the numbers I was quoting, I have driven the older model but not the\\n>newer.\\n\\n\\nsure sounds like they got a ringer.  the 325is i drove was definitely\\nfaster than that.  if you want to quote numbers, my AW AutoFile shows\\n0-60 in 7.4, 1/4 mile in 15.9.  it quotes Car and Driver's figures\\nof 6.9 and 15.3.  oh, BTW, these numbers are for the 325i.\\n\\ni don't know how the addition of variable valve timing for 1993 affects it.\\nbut don't take my word for it.  go drive it.\\n\\n-teddy\\n\", 'Xref: cantaloupe.srv.cs.cmu.edu rec.autos:101553 rec.autos.tech:53404\\nPath: cantaloupe.srv.cs.cmu.edu!das-news.harvard.edu!ogicse!news.tek.com!tekgen!netops\\nFrom: netops@tekgen.bv.tek.com (Randy King)\\nNewsgroups: rec.autos,rec.autos.tech\\nSubject: RE: headlights problem\\nKeywords: headlights\\nMessage-ID: <2407@tekgen.bv.tek.com>\\nDate: 5 Apr 93 23:23:53 GMT\\nArticle-I.D.: tekgen.2407\\nFollowup-To: rec.autos\\nOrganization: Tektronix Inc., Beaverton, Or.\\nLines: 6\\n\\nTHANKS TO ALL OF YOU WHO RESPONDED TO MY POSTING. \\n\\nTHE PROBLEM WITH MY TRUCK\\'S HEADLIGHTS LOW BEAM PROBLEM WAS A \"LOOSE WIRE\\n CONNECTION\".  IT WAS NOT THE \"FUSE\" AS A MINORITY OF YOU SUGGESTED.\\n\\nTHANKS AGAIN.\\n', \"Xref: cantaloupe.srv.cs.cmu.edu rec.autos:101554 rec.autos.tech:53405\\nPath: cantaloupe.srv.cs.cmu.edu!das-news.harvard.edu!ogicse!news.tek.com!tekgen!netops\\nFrom: netops@tekgen.bv.tek.com (Randy King)\\nNewsgroups: rec.autos,rec.autos.tech\\nSubject: left turn signal won't stop automaticaly\\nMessage-ID: <2408@tekgen.bv.tek.com>\\nDate: 5 Apr 93 23:29:21 GMT\\nArticle-I.D.: tekgen.2408\\nFollowup-To: rec.autos\\nOrganization: Tektronix Inc., Beaverton, Or.\\nLines: 5\\n\\nThe subject says it all. My 1984 Chev S10 Pickup's left turn signal does\\nnot stop after turning. What cause this to stop automaticaly?. Is this\\na mechanical problem by the steering wheel?.\\n\\nNOTE: This truck has an after market steering wheel (GT-Grant) installed.\\n\", 'Path: cantaloupe.srv.cs.cmu.edu!das-news.harvard.edu!ogicse!uwm.edu!zaphod.mps.ohio-state.edu!usc!elroy.jpl.nasa.gov!nntp-server.caltech.edu!lxrosser\\nFrom: lxrosser@cco.caltech.edu (Alex Rosser)\\nNewsgroups: rec.autos\\nSubject: Re: What is \" Volvo \" ?\\nMessage-ID: <1pl86tINNfv7@gap.caltech.edu>\\nDate: 3 Apr 93 23:56:12 GMT\\nArticle-I.D.: gap.1pl86tINNfv7\\nReferences: <1993Mar31.193406.29625@ugle.unit.no> <1993Apr1.174233.29988@newsgate.sps.mot.com>\\nOrganization: California Institute of Technology, Pasadena\\nLines: 27\\nNNTP-Posting-Host: blacker.caltech.edu\\n\\nwolfson@regatta.sps.mot.com (Stephen Wolfson) writes:\\n\\n>In article <1993Mar31.193406.29625@ugle.unit.no> oep@colargol.edb.tih.no  \\n>(oep) writes:\\n>> which turns into a teenagers car when it gets old. The average  \\n>lifelength of\\n>> a Volvo in Norway is 18 years, and in Sweden 20 years)\\n\\n>Of course someone pointed out when Saab or Volvo was running their\\n>At least 10 years ads, that the average milage was significantly\\n>less than than the US average.\\n\\nThat my be, but every Volvo I\\'ve ever owned has lasted far longer than most\\nother cars.....\\n1981 Volvo 245....125,000 Miles, still on the road.\\n1983 Volvo 242....195,000 Miles, still on the road.\\n1984 Volvo 244....175,000 Miles, still on the road.\\nAnd I\\'ll admit, the dealer repair cost is high. But with some mechanical\\naptitude of your own, and finding a good indi mechanic, you can avoid most\\nbreakdowns, and make the rest cheap(The sum total of the repairs on the car with\\n195,000 miles has been 2 mufflers and a radiator. Whoa. Bad repair record). \\nAnd all of these cars are driven fairly hard. None of them are at the head of\\na line of cars going 30 MPH....the first two spend a lot of their operating\\nlife with the speedometer pegged...and the only reason the 84 doesn\\'t is it has\\na 120 MPH speedo...\\nWhat I want to know is....have all you people who hate Volvos been traumatized\\nby someone in a 745 Turbo wagon blowing you away on the road, or what?\\n']\n",
      "['101725', '102616', '103117', '103118', '103119']\n",
      "['Path: cantaloupe.srv.cs.cmu.edu!das-news.harvard.edu!husc-news.harvard.edu!kuhub.cc.ukans.edu!hubble.asymetrix.com!rpi!uwm.edu!biosci!parc!decwrl!decwrl!uunet!mri!jeff\\nNewsgroups: rec.motorcycles\\nSubject: Re: Lexan Polish?\\nMessage-ID: <1993Mar22.215141.28352@mri.com>\\nFrom: jeff@mri.com (Jonathan Jefferies)\\nDate: 22 Mar 93 21:51:41 GMT\\nSender: jeff@mir.com\\nExpires: Sun, 8 Aug 1993 07:00:00 GMT\\nReferences: <C41soE.M62@ns1.nodak.edu>\\nOrganization: Microtec Research, Santa Clara, California, USA\\nKeywords: Lexan, Plastic\\nSummary: Scratches in Plastic\\nLines: 27\\n\\nIn article <C41soE.M62@ns1.nodak.edu> wilken@plains.NoDak.edu (Scott Wilken) writes:\\n>A couple of years ago I replaced the stock windscreen on my Interceptor\\n>with a higher one from National Cycle.  The thing happens to be made of\\n>Lexan.\\n>\\n>Can anyone recommend a polish to use on it that is safe for lexan?  Its\\n>starting to show a few scratches, and id like to polish them out..\\n>Go FAST!            |  Internet:  wilken@plains.nodak.edu   |     AMA #587126 \\n>Take Chances!       |     UUCP: ..!uunet!plains!wilken      |     DoD #0087 \\n>VF700F Interceptor  |        Bitnet:  WILKEN@PLAINS         |   \\n\\nSuggest McQuires #1 plastic polish.  It will help somewhat but nothing \\nwill remove deep scratches without making it worse than it already is.\\nMcQuires will do something for fine or light stuff.\\n\\nAlso suggest calling your local plastic shop.  In Calif. \"TAP PLASTIC\" is\\na chain that carries most of what is needed for repair and sometimes\\nreplacement of plastic bits.  Telephone in the Bay area is 415-962-8430.\\nI\\'m not sure how amenable they are to shipping.  I have found that they\\nhave several excellent products for cleaning, and removing crap from\\nwindscreens and face shields.  Also they have one called \"lift-it\" which\\nworks real well in removing sticky stuffs such as adhessives from plastic\\nwihtout scratching same.\\n\\nLuck,\\n\\nJonathan Jefferies, jeff@mri.com\\n', 'Xref: cantaloupe.srv.cs.cmu.edu rec.motorcycles:102616 rec.motorcycles.dirt:3539 rec.motorcycles.harley:3023 rec.motorcycles.racing:1903\\nPath: cantaloupe.srv.cs.cmu.edu!das-news.harvard.edu!ogicse!uwm.edu!cs.utexas.edu!uunet!orca!javelin.sim.es.com!blgardne\\nFrom: blgardne@javelin.sim.es.com (Dances With Bikers)\\nNewsgroups: rec.motorcycles,rec.motorcycles.dirt,rec.motorcycles.harley,rec.motorcycles.racing\\nSubject: FAQ - What is the DoD?\\nSummary: Everything you always wanted to know about DoD, but were afraid to ask\\nKeywords: DoD FAQ\\nMessage-ID: <DoD.monthly_733561501@javelin.sim.es.com>\\nDate: 31 Mar 93 07:05:04 GMT\\nArticle-I.D.: javelin.DoD.monthly_733561501\\nExpires: Sun, 30 May 1993 07:05:01 GMT\\nSender: blgardne@javelin.sim.es.com (Blaine Gardner)\\nReply-To: blgardne@javelin.sim.es.com\\nFollowup-To: rec.motorcycles\\nOrganization: Evans & Sutherland Computer Corporation\\nLines: 849\\nSupersedes: <DoD.monthly_730969501@javelin.sim.es.com>\\n\\nThis is a periodic posting intended to answer the Frequently Asked\\nQuestion: What is the DoD? It is posted the first of each month, with\\nan expiration time of over a month. Thus, unless your site\\'s news\\nsoftware is ill-mannered, this posting should always be available.\\nThis WitDoDFAQ is crossposted to all four rec.motorcycles groups in an\\nattempt to catch most new users, and followups are directed to\\nrec.motorcycles.\\n\\nLast changed 9-Feb-93 to add a message from the KotL, and a bit of\\nHalon.\\n\\n\\t\\t\\tVERSION 1.1\\n\\nThis collection was originally assembled by Lissa Shoun, from the\\noriginal postings. With Lissa\\'s permission, I have usurped the title of\\nKotWitDoDFAQ. Any corrections, additions, bribes, etc. should be aimed at\\nblgardne@javelin.sim.es.com.\\n\\n------------------------------------------------------------------------\\n\\nContents:\\nHow do I get a DoD number?\\tby Blaine Gardner\\tDoD #46\\nDoD \"Road Rider\" article\\tby Bruce Tanner\\t\\tDoD #161\\nWhat is the DoD?\\t\\tby John Sloan\\t\\tDoD #11\\nThe DoD Logo\\t\\t\\tby Chuck Rogers\\t\\tDoD #3\\nThe DoD  (this started it all)\\tby The Denizen of Doom\\tDoD #1\\nThe DoD Anthem\\t\\t\\tby Jonathan Quist\\tDoD #94\\nWhy you have to be killed\\tby Blaine Gardner\\tDoD #46\\nThe rec.moto.photo.archive\\tcourtesy of Bruce Tanner DoD #161\\nPatches? What patches?\\t\\tby Blaine Gardner\\tDoD #46\\nLetter from the AMA museum      by Jim Rogers, Director DoD #395\\nThe DoD Rules\\t\\t\\tby consensus\\nOther rec.moto resources\\tby various Keepers\\tDoD #misc\\nThe rec.moto.reviews.archive\\tcourtesy of Loki Jorgenson DoD #1210\\nUpdated stats & rides info\\tby Ed Green (DoD #111) and others\\n\\n------------------------------------------------------------------------\\n\\t\\t\\tHow do I get a DoD number?\\n\\nIf the most Frequently Asked Question in rec.motorcycles is \"What is the\\nDoD?\", then the second most Frequently Asked Question must be \"How do I\\nget a DoD number?\" That is as simple as asking the Keeper of the List\\n(KotL, accept no substitue Keepers) for a number. If you\\'re feeling\\ncreative, and your favorite number hasn\\'t been taken already, you can\\nmake a request, subject to KotL approval. (Warning, non-numeric, non-\\nbase-10 number requests are likely to earn a flame from the KotL. Not\\nthat you won\\'t get it, but you _will_ pay for it.)\\n\\nOh, and just one little, tiny suggestion. Ask the KotL in e-mail. You\\'ll\\njust be playing the lightning rod for flames if you post to the whole\\nnet, and you\\'ll look like a clueless newbie too.\\n\\nBy now you\\'re probably asking \"So who\\'s the KotL already?\". Well, as\\nJohn Sloan notes below, that\\'s about the only real \"secret\" left around\\nhere, but a few (un)subtle hints can be divulged. First, it is not myself,\\nnor anyone mentioned by name in this posting (maybe :-), though John was\\nthe original KotL. Second, in keeping with the true spirit of Unix, the\\nKotL\\'s first name is only two letters long, and can be spelled entirely\\nwith hexadecimal characters. (2.5, the KotL shares his name with a line-\\noriented text utility.) Third, he has occasionally been seen posting\\nmessages bestowing new DoD numbers (mostly to boneheads with \"weenie\\nmailers\"). Fourth, there is reason to suspect the KotL of being a\\nDead-Head.\\n\\n***************** Newsflash: A message from the KotL ******************\\n\\nOnce you have surmounted this intellectual pinnacle and electronically\\ngroveled to the KotL, please keep in mind that the KotL does indeed\\nwork for a living, and occasionally must pacify its boss by getting\\nsomething done.  Your request may languish in mailer queue for (gasp!)\\ndays, perhaps even (horrors!) a week or two.  During such times of\\neconomic activity on the part of the KotL\\'s employers, sending yet\\nanother copy of your request will not speed processing of the queue (it\\njust makes it longer, verification of this phenominon is left as an\\nexcersize for the reader).  If you suspect mailer problems, at least\\nannotate subsequent requests with an indication that a former request\\nwas submitted, lest you be assigned multiple numbers (what, you think\\nthe KotL *memorizes* the list?!?).\\n\\n***********************************************************************\\n\\nOne more thing, the KotL says that its telepathic powers aren\\'t what\\nthey used to be. So provide some information for the list, will ya?\\nThe typical DoD List entry contains number, name, state/country, &\\ne-mail address. For example:\\n\\n0111:Ed Green:CA:ed.green@East.Sun.COM\\n\\n(PS: While John mentions below that net access and a bike are the only\\nrequirements for DoD membership, that\\'s not strictly true these days, as\\nthere are a number of Denizens who lack one or both.)\\n\\nBlaine (Dances With Bikers) Gardner   blgardne@javelin.sim.es.com\\n\\n------------------------------------------------------------------------\\n\\n            \"Denizens of Doom\", by Bruce Tanner (DoD 0161)\\n\\n      [Road Rider, August 1991, reprinted with Bruce\\'s permission]\\n\\nThere is a group of motorcyclists that gets together and does all the normal \\nthings that a bunch of bikers do.  They discuss motorcycles and  \\nmotorcycling, beverages, cleaning fluids, baklavah, balaclava, caltrops,  \\nhelmets, anti-fog shields, spine protectors, aerodynamics, three-angle valve\\nseats, bird hits, deer whistles, good restaurants, racing philosophy, \\ntraffic laws, tickets, corrosion control, personalities, puns, double \\nentendres, culture, absence of culture, first rides and friendship.  They \\nargue with each other and plan rides together.\\n\\nThe difference between this group and your local motorcycle club is that, \\nalthough they get together just about everyday, most have never seen each \\nother face to face.  The members of this group live all over the known world \\nand communicate with each other electronically via computer.\\n\\nThe computers range from laptops to multi-million dollar computer centers;  \\nthe people range from college and university students to high-tech industry \\nprofessionals to public-access electronic bulletin-board users.  Currently, \\nrec.motorcycles (pronounced \"wreck-dot-motorcycles,\" it\\'s the file name for \\nthe group\\'s primary on-line \"meeting place\") carries about 2250 articles per \\nmonth;  it is read by an estimated 29,000 people.  Most of the frequent \\nposters belong to a motorcycle club, the Denizens of Doom, usually referred \\nto as the DoD.\\n\\nThe DoD started when motorcyclist John R. Nickerson wrote a couple of \\nparodies designed to poke fun at motorcycle stereotypes.  Fellow computer \\nenthusiast Bruce Robinson posted these articles under the pen name, \"Denizen \\nof Doom.\"  A while later Chuck Rogers signed off as DoD nr. 0003 Keeper of \\nthe Flame.  Bruce was then designated DoD nr. 0002, retroactively and, of \\ncourse, Nickerson, the originator of the parodies, was given DoD nr. 0001.\\n\\nThe idea of a motorcycle club with no organization, no meetings and no rules \\nappealed to many, so John Sloan -- DoD nr. 0011 -- became Keeper of the \\nList, issuing DoD numbers to anyone who wanted one.  To date there have been \\nalmost 400 memberships issued to people all over the United States and \\nCanada, as well as Australia, New Zealand, the United Kingdom, France, \\nGermany, Norway and Finland.\\n\\nKeeper of the List Sloan eventually designed a club patch.  The initial run \\nof 300 patches sold out immediately.  The profits from this went to the \\nAmerican Motorcycle Heritage Foundation.  Another AMHF fund raiser -- \\nselling Denizens of Doom pins to members -- was started by Arnie Skurow a \\nfew months later.  Again, the project was successful and the profits were \\ndonated to the foundation.  So far, the Denizens have contributed over $1500 \\nto the AMA museum.  A plaque in the name of the Denizens of Doom now hangs \\nin the Motorcycle Heritage Museum.\\n\\nAs often as possible, the DoD\\'ers crawl out from behind their CRTs and go \\nriding together.  It turns out that the two largest concentrations of \\nDoD\\'ers are centered near Denver/Boulder, Colorado, and in California\\'s \\n\"Silicon Valley.\"  Consequently, two major events are the annual Assault on \\nRollins Pass in Colorado, and the Northern versus Southern California \\n\"Joust.\"\\n\\nThe Ride-and-Feed is a bike trip over Rollins Pass, followed by a big \\nbarbecue dinner.  The concept for the Joust is to have riders from Northern \\nCalifornia ride south; riders from Southern California to ride north, \\nmeeting at a predesignated site somewhere in the middle.  An additional plan \\nfor 1991 is to hold an official Denizens of Doom homecoming in conjunction \\nwith the AMA heritage homecoming in Columbus, Ohio, in July.\\n\\nThough it\\'s a safe bet the the Denizens of Doom and their collective \\ncommunications hub, rec.motorcycles, will not replace the more traditional \\nmotorcycle organizations, for those who prowl the electronic pathways in \\nsearch of two-wheeled camaraderie, it\\'s a great way for kindred spirits to \\nget together.  Long may they flame.\\n\\n\\n\"Live to Flame -- Flame to Live\"\\t[centerbar]\\n\\nThis official motto of the Denizens of Doom refers to the ease with which \\nyou can gratuitously insult someone electronically, when you would not do \\nanything like that face to face.  These insults are known as \"flames\";  \\nissuing them is called \"flaming.\"  Flames often start when a member \\ndisagrees with something another member has posted over the network.  A \\ntypical, sophisticated, intelligent form of calm, reasoned rebuttal would be \\nsomething like:  \"What an incredibly stupid statement, you Spandex-clad \\nposeur!\"  This will guarantee that five other people will reply in defense \\nof the original poster, describing just what they think of you, your riding \\nability and your cat.\\n\\n------------------------------------------------------------------------\\n\\n          _The Denizens of Doom: The Saga Unfolds_\\n\\n                  by John Sloan  DoD #0011\\n\\nPeriodically the question \"What is DoD?\" is raised. This is one of\\nthose questions in the same class as \"Why is the sky blue?\", \"If there\\nis a God, why is there so much suffering in the world?\" and \"Why do\\nwomen inevitably tell you that you\\'re such a nice guy just before they\\ndump you?\", the kinds of questions steeped in mysticism, tradition,\\nand philosophy, questions that have inspired research and discussion\\nby philosophers in locker rooms, motorcycle service bays, and in the\\nhalls of academe for generations. \\n\\nA long, long time ago (in computer time, where anything over a few\\nminutes is an eternity and the halting problem really is a problem) on\\na computer far, far away on the net (topologically speaking; two\\nmachines in the same room in Atlanta might route mail to one another\\nvia a system in Chicago), a chap who wished to remain anonymous (but\\nwho was eventually assigned the DoD membership #1) wrote a satire of\\nthe various personalities and flame wars of rec.motorcycles, and\\nsigned it \"The Denizen of Doom\". Not wishing to identify himself, he\\nasked that stalwart individual who would in the fullness of time\\nbecome DoD #2 to post it for him. DoD #2, not really giving a whit\\nabout what other people thought and generally being a right thinking\\nindividual, did so.  Flaming and other amusements followed. \\n\\nHe who would become the holder of DoD membership #3 thought this was\\nthe funniest thing he\\'d seen in a while (being the sort that is pretty\\neasily amused), so he claimed membership in the Denizens of Doom\\nMotorcycle Club, and started signing his postings with his membership\\nnumber. \\n\\nPerhaps readers of rec.motorcycles were struck with the vision of a\\nmotorcycle club with no dues, no rules, no restrictions as to brand or\\nmake or model or national origin of motorcycle, a club organized\\nelectronically.  It may well be that readers were yearning to become a\\npart of something that would provide them with a greater identity, a\\ngestalt personality, something in which the whole was greater than the\\nsum of its parts.  It could also be that we\\'re all computer nerds who\\nwear black socks and sneakers and pocket protectors, who just happen\\nto also love taking risks on machines with awesome power to weight\\nratios, social outcasts who saw a clique that would finally be open\\nminded enough to accept us as members. \\n\\nIn a clear case of self fulfilling prophesy, The Denizens of Doom\\nMotorcycle Club was born. A club in which the majority of members have\\nnever met one another face to face (and perhaps like it that way), yet\\nfeel that they know one another pretty well (or well enough given some\\nof the electronic personalities in the newsgroup). A club organized\\nand run (in the loosest sense of the word) by volunteers through the\\nnetwork via electronic news and mail, with a membership/mailing list\\n(often used to organize group rides amongst members who live in the\\nsame region), a motto, a logo, a series of photo albums circulating\\naround the country (organized by DoD #9), club patches (organized by\\n#11), and even an MTV-style music video (produced by #47 and\\ndistributed on VHS by #18)! \\n\\nWhere will it end? Who knows? Will the DoD start sanctioning races,\\nplacing limits on the memory and clock rate of the on-board engine\\nmanagement computers? Will the DoD organize poker runs where each\\nparticipant collects a hand of hardware and software reference cards?\\nWill the DoD have a rally in which the attendees demand a terminal\\nroom and at least a 386-sized UNIX system? Only time will tell. \\n\\nThe DoD has no dues, no rules, and no requirements other than net\\naccess and a love for motorcycles. To become a member, one need only\\nask (although we will admit that who you must ask is one of the few\\nreally good club secrets). New members will receive via email a\\nmembership number and the latest copy of the membership list, which\\nincludes name, state, and email address. \\n\\nThe Denizens of Doom Motorcycle Club will live forever (or at least\\nuntil next year when we may decided to change the name). \\n\\n                  Live to Flame - Flame to Live\\n\\n------------------------------------------------------------------------\\n\\n     The DoD daemon as seen on the patches, pins, etc. by\\n\\n\\tChuck Rogers,  car377@druhi.att.com,  DoD #0003\\n \\n\\n                :-(           DoD            )-: \\n               :-(  x    __         __    x   )-:      \\n              :-(  x    / /         \\\\ \\\\    x   )-:     \\n             :-(  x    / / -\\\\-----/- \\\\ \\\\    x   )-:    \\n            :-(  L     | \\\\/  \\\\   /  \\\\/ |     F   )-:   \\n            :-(  I     | /    \\\\ /    \\\\ |     L   )-:   \\n            :-(  V     \\\\/ __   /   __ \\\\/     A   )-:   \\n            :-(  E     / /  \\\\     /  \\\\ \\\\     M   )-:   \\n            :-(        | |   \\\\   /   | |     E   )-:   \\n            :-(  T     | | . | _ | . | |         )-:   \\n            :-(  O     | \\\\___// \\\\\\\\___/ |     T   )-:   \\n            :-(         \\\\     \\\\_/     /      O   )-:   \\n            :-(  F       \\\\___     ___/           )-:   \\n            :-(  L        \\\\ \\\\     / /        L   )-:   \\n            :-(  A         \\\\ vvvvv /         I   )-:   \\n            :-(  M         | (   ) |         V   )-:   \\n            :-(  E         | ^^^^^ |         E   )-:   \\n             :-(  x        \\\\_______/        x   )-:    \\n              :-(  x                       x   )-:     \\n               :-(  x   rec.motorcycles   x   )-:\\n                :-(          USENET          )-:\\n\\n\\n------------------------------------------------------------------------\\n\\n                      The DoD\\n\\n              by the Denizen of Doom    DoD #1\\n \\nWelcome one and all to the flamingest, most wonderfullest newsgroup of\\nall time: wreck.mudder-disciples or is it reak.mudder-disciples? The\\nNames have been changes to protect the Guilty (riders) and Innocent\\n(the bikes) alike. If you think you recognize a contorted version of\\nyour name, you don\\'t. It\\'s just your guilt complex working against\\nyou. Read \\'em and weep. \\n\\nWe tune in on a conversation between some of our heros. Terrible\\nBarbarian is extolling the virtues of his Hopalonga Puff-a-cane to\\nReverend Muck Mudgers and Stompin Fueling-Injection: \\n\\nTerrible: This Hopalonga is the greatest... Beats BMWs dead!! \\n\\nMuck: I don\\'t mean to preach, Terrible, but lighten up on the BMW\\n     crowd eh?  I mean like I like riding my Yuka-yuka Fudgeo-Jammer\\n     11 but what the heck.  \\n\\nStompin: No way, the BMW is it, complete, that\\'s all man.\\n\\nTerrible: Nahhhh, you\\'re sounding like Heritick Ratatnack! Hey, at\\n     least he is selling his BMW and uses a Hopalonga Intercorruptor!\\n     Not as good as a Puff-a-cane, should have been called a\\n     Woosh-a-stream.\\n\\nStompin: You mean Wee-Stream.\\n\\nTerrible: Waddya going to do? Call in reinforcements???\\n\\nStompin: Yehh man. Here comes Arlow Scarecrow and High Tech. Let\\'s see\\n     what they say, eh? \\n\\nMuck: Now men, let\\'s try to be civil about this.\\n\\nHigh Tech: Hi, I\\'m a 9 and the BMW is the greatest.\\n\\nArlow: Other than my B.T. I love my BMW!\\n\\nTerrible: B.T.???\\n\\nArlow: Burley Thumpison, the greatest all American ride you can own.\\n\\nMuck: Ahhh, look, you\\'re making Terrible gag.\\n\\nTerrible: What does BMW stand for anyway??? \\n\\nMuck, Arlow, High: Beats Me, Wilhelm.\\n\\nTerrible: Actually, my name is Terrible. Hmmm, I don\\'t know either.\\n\\nMuck: Say, here comes Chunky Bear.\\n\\nChunky: Hey, Hey, Hey! Smarter than your average bear!\\n\\nTerrible: Hey, didn\\'t you drop your BMW???\\n\\nChunky: All right eh, a little BooBoo, but I left him behind. I mean \\n     even Villy Ogle flamed me for that! \\n\\nMuck: It\\'s okay, we all makes mistakes.\\n\\nOut of the blue the West coasters arrive, led by Tread Orange with\\nDill Snorkssy, Heritick Ratatnack, Buck Garnish, Snob Rasseller and\\nthe perenial favorite: Hooter Boobin Brush! \\n\\nHeritick: Heya Terrible, how\\'s yer front to back bias?\\n\\nTerrible: Not bad, sold yer BMW?\\n\\nHeritick: Nahhh.\\n\\nHooter: Hoot, Hoot.\\n\\nBuck: Nice tree Hooter, how\\'d ya get up there?\\n\\nHooter: Carbujectors from Hell!!!\\n\\nMuck: What\\'s a carbujector?\\n\\nHooter: Well, it ain\\'t made of alumican!!! Made by Tilloslert!!\\n\\nMuck: Ahh, come on down, we aren\\'t going to flame ya, honest!!\\n\\nDill: Well, where do we race?\\n\\nSnob: You know, Chunky, we know about about your drop and well, don\\'t\\n     ride! \\n\\nMuck: No! No! Quiet!\\n\\nTread: BMW\\'s are the greatest in my supreme level headed opinion.\\n     They even have luggage made by Sourkraut!\\n\\nHigh: My 9 too!\\n\\nTerrible, Heritick, Dill, Buck: Nahhhhh!!!\\n\\nStompin, Tread, High, Chunky, Snob: Yesss Yessssss!!!\\n\\nBefore this issue could be resolved the Hopalonga crew called up more\\ncohorts from the local area including Polyanna Stirrup and the\\ninfamous Booster Robiksen on his Cavortin! \\n\\nPolyanna: Well, men, the real bikers use stirrups on their bikes like\\n     I use on my Hopalonga Evening-Bird Special. Helpful for getting\\n     it up on the ole ventral stand!  \\n\\nTerrible: Hopalonga\\'s are great like Polyanna says and Yuka-Yuka\\'s and\\n     Sumarikis and Kersnapis are good too! \\n\\nBooster: I hate Cavortin.\\n\\nAll: WE KNOW, WE KNOW.\\n\\nBooster: I love Cavortin.\\n\\nAll: WE KNOW WE KNOW.\\n\\nMuck: Well, what about Mucho Guzlers and Lepurras?\\n\\nSnob, Tread: Nawwwwww.\\n\\nMuck: What about a Tridump?\\n\\nTerrible: Isn\\'t that a chewing gum?\\n\\nMuck: Auggggg, Waddda about a Pluck-a-kity?\\n\\nHeritick: Heyya Muck, you tryin\\' to call up the demon rider himself?\\n\\nMuck: No, no. There is more to Mudder-Disciples than arguing about make.\\n\\nTwo more riders zoom in, in the form of Pill Turret and Phalanx Lifter.\\nPill: Out with dorsal stands and ventral stands forever.\\n\\nPhalanx: Hey, I don\\'t know about that.\\n\\nAnd Now even more west coasters pour in.\\nRoad O\\'Noblin: Hopalonga\\'s are the greatest!\\n\\nMaulled Beerstein: May you sit on a bikejector!\\n\\nSuddenly more people arrived from the great dark nurth:\\nKite Lanolin: Hey, BMW\\'s are great, men.\\n\\nRobo-Nickie: I prefer motorcycle to robot transformers, personally.\\n\\nMore riders from the west coast come into the discussion:\\nAviator Sourgas: Get a Burley-Thumpison with a belted-rigged frame.\\n\\nGuess Gasket: Go with a BMW or Burley-Thumpison.\\n\\nWith a roar and a screech the latest mudder-disciple thundered in. It\\nwas none other that Clean Bikata on her Hopalonga CaBammerXorn. \\nClean: Like look, Hopalonga are it but only CaBammerXorns. \\n\\nMuck: Why??\\n\\nClean: Well, like it\\'s gotta be a 6-banger or nothin.\\n\\nMuck: But I only have a 4-banger.\\n\\nClean: No GOOD!\\n\\nChunky: Sob, some of us only have 2-bangers!\\n\\nClean: Inferior!\\n\\nStompin: Hey, look, here\\'s proof BMW\\'s are better. The Bimmer-Boys\\nburst into song: (singing) Beemer Babe, Beemer Babe give me a\\nthrill... \\n\\nRoad, Terrible, Polyanna, Maulled, Dill etc.: Wadddoes BMW stand for? \\n\\nHeritick, Stompin, Snob, Chunky, Tread, Kite, High, Arlow: BEAT\\'S ME,\\n     WILHEM! \\n\\nRoad, Terrible, Polyanna, Maulled, Dill etc.: Oh, don\\'t you mean BMW? \\n\\nAnd so the ensuing argument goes until the skies clouded over and the\\nthunder roared and the Greatest Mudder-Disciple (G.M.D.) of them all\\nboomed out.\\nG.M.D.: Enough of your bickering! You are doomed to riding\\n     Bigot & Suction powered mini-trikes for your childish actions. \\n\\nAll: no, No, NO!!! Puhlease.\\n\\nDoes this mean that all of the wreck.mudder-disciples will be riding\\nmini-trikes?  Are our arguing heros doomed?  Tune in next week for the\\nnext gut wretching episode of \"The Yearning and Riderless\" with its\\never increasing cast of characters.  Where all technical problems will\\nbe flamed over until well done.  Next week\\'s episode will answer the\\nquestion of: \"To Helmet or Not to Helmet\" will be aired, this is heady\\nmaterial and viewer discretion is advised. \\n\\n------------------------------------------------------------------------\\n\\n          Script for the Denizens of Doom Anthem Video\\n\\n                by Jonathan E. Quist   DoD #94\\n\\n\\n[Scene:  A sterile engineering office.  A lone figure, whom we\\'ll call\\nChuck, stands by a printer output bin, wearing a white CDC lab coat,\\nwith 5 mechanical pencils in a pocket protector.] \\n\\n(editor\\'s note: For some reason a great deal of amusement was had at\\nthe First Annual DoD Uni-Coastal Ironhorse Ride & Joust by denizens\\nreferring to each other as \"Chuck\". I guess you had to be there. I\\nwasn\\'t.) \\n\\nChuck:  I didn\\'t want to be a Software Systems Analyst,\\n cow-towing to the whims of a machine, and saying yessir, nosir,\\n may-I-have-another-sir.  My mother made me do it.  I wanted\\n to live a man\\'s life,\\n[Music slowly builds in background]\\n riding Nortons and Triumphs through the highest mountain passes\\n and the deepest valleys,\\n living the life of a Motorcyclist;\\n doing donuts and evading the police;\\n terrorizing old ladies and raping small children;\\n eating small dogs for tea (and large dogs for dinner).  In short,\\n\\n\\tI Want to be      A Denizen!\\n\\n[Chuck rips off his lab coat, revealing black leather jacket (with\\nfringe), boots, and cap.  Scene simultaneously changes to the top of\\nan obviously assaulted Rollins Pass.  A small throng of Hell\\'s Angels\\nsit on their Harleys in the near background, gunning their engines,\\nshowering lookers-on with nails as they turn donuts, and leaking oil\\non the tarmac.  Chuck is standing in front of a heavily chromed Fat\\nBoy.] \\n\\nChuck [Sings to the tune of \"The Lumberjack Song\"]:\\n\\nI\\'m a Denizen and I\\'m okay,\\nI flame all night and I ride all day.\\n\\n[Hell\\'s Angels Echo Chorus, surprisingly heavy on tenors]:\\nHe\\'s a Denizen and he\\'s okay,\\nHe flames all night and he rides all day.\\n\\nI ride my bike;\\nI eat my lunch;\\nI go to the lavat\\'ry.\\nOn Wednesdays I ride Skyline,\\nRunning children down with glee.\\n\\n[Chorus]:\\nHe rides his bike;\\nHe eats his lunch;\\nHe goes to the lavat\\'ry.\\nOn Wednesdays he rides Skyline,\\nRunning children down with glee.\\n\\n[Chorus refrain]:\\n\\'Cause He\\'s a Denizen...\\n\\nI ride real fast,\\nMy name is Chuck,\\nIt somehow seems to fit.\\nI over-rate the worst bad f*ck,\\nBut like a real good sh*t.\\n\\nOh, I\\'m a Denizen and I\\'m okay!\\nI flame all night and I ride all day.\\n\\n[Chorus refrain]:\\nOh, He\\'s a Denizen...\\n\\nI wear high heels\\nAnd bright pink shorts,\\n full leathers and a bra.\\nI wish I rode a Harley,\\n just like my dear mama.\\n\\n[Chorus refrain]\\n\\n------------------------------------------------------------------------\\n\\n                    Why you have to be killed.\\n\\nWell, the first thing you have to understand (just in case you managed\\nto read this far, and still not figure it out) is that the DoD started\\nas a joke. And in the words of one Denizen, it intends to remain one.\\n\\nSometime in the far distant past, a hapless newbie asked: \"What does DoD\\nstand for? It\\'s not the Department of Defense is it?\" Naturally, a\\nDenizen who had watched the movie \"Top Gun\" a few times too many rose\\nto the occasion and replied:\\n\\n\"That\\'s classified, we could tell you, but then we\\'d have to kill you.\"\\n\\nAnd the rest is history.\\n\\nA variation on the \"security\" theme is to supply disinformation about\\nwhat DoD stands for. Notable contributions (and contributers, where\\nknown) include:\\n\\nDaughters of Democracy (DoD 23)\\t\\tDoers of Donuts\\nDancers of Despair (DoD 9)\\t\\tDebasers of Daughters\\nDickweeds of Denver\\t\\t\\tDriveway of Death\\nDebauchers of Donuts\\t\\t\\tDumpers of Dirtbikes\\n\\nNote that this is not a comprehensive list, as variations appear to be\\nlimited only by the contents of one\\'s imagination or dictionary file.\\n\\n------------------------------------------------------------------------\\n\\n                     The rec.moto.photo archive\\n\\nFirst a bit of history, this all started with Ilana Stern and Chuck\\nRogers organizing a rec.motorcycles photo album. Many copies were made,\\nand several sets were sent on tours around the world, only to vanish in\\nunknown locations. Then Bruce Tanner decided that it would be appropriate\\nfor an electronic medium to have an electronic photo album. Bruce has not\\nonly provided the disk space and ftp & e-mail access, but he has taken\\nthe time to scan most of the photos that are available from the archive.\\n\\nNot only can you see what all these folks look like, you can also gawk\\nat their motorcycles. A few non-photo files are available from the\\nserver too, they include the DoD membership list, the DoD Yellow Pages,\\nthe general rec.motorcycles FAQ, and this FAQ posting.\\n\\nHere are a couple of excerpts from from messages Bruce posted about how\\nto use the archive.\\n\\n**********************************************************\\n\\nVia ftp:\\n\\ncerritos.edu [130.150.200.21]\\n\\nVia e-mail:\\n\\nThe address is server@cerritos.edu.  The commands are given in the body of the\\nmessage.  The current commands are DIR and SEND, given one per line.  The\\narguments to the commands are VMS style file specifications.  For\\nrec.moto.photo the file spec is [DOD]file.  For example, you can send:\\n\\ndir [dod]\\nsend [dod]bruce_tanner.gif\\nsend [dod]dodframe.ps\\n\\nand you\\'ll get back 5 mail messages; a directory listing, 3 uuencoded parts\\nof bruce_tanner.gif, and the dodframe.ps file in ASCII.\\n\\nOh, wildcards (*) are allowed, but a maximum of 20 mail messages (rounded up to\\nthe next whole file) are send.  A \\'send [dod]*.gif\\' would send 150 files of\\n50K each; not a good idea.\\n-- \\nBruce Tanner        (213) 860-2451 x 596    Tanner@Cerritos.EDU\\nCerritos College    Norwalk, CA             cerritos!tanner\\n\\n**********************************************************\\n\\nA couple of comments: Bruce has put quite a bit of effort into this, so\\nwhy not drop him a note if you find the rec.moto.photo archive useful?\\nSecond, since Bruce has provided the server as a favor, it would be kind\\nof you to access it after normal working hours (California time). \\n\\n------------------------------------------------------------------------\\n\\n                      Patches? What patches?\\n\\nYou may have heard mention of various DoD trinkets such as patches &\\npins. And your reaction was probably: \"I want!\", or \"That\\'s sick!\", or\\nperhaps \"That\\'s sick! I want!\"\\n\\nWell, there\\'s some good news and some bad news. The good news is that\\nthere\\'s been an amazing variety of DoD-labeled widgets created. The bad\\nnews is that there isn\\'t anywhere you can buy any of them. This isn\\'t\\nbecause of any \"exclusivity\" attempt, but simply because there is no\\n\"DoD store\" that keeps a stock. All of the creations have been done by\\nindividual Denizens out of their own pockets. The typical procedure is\\nsomeone says \"I\\'m thinking of having a DoD frammitz made, they\\'ll cost\\n$xx.xx, with $xx.xx going to the AMA museum. Anyone want one?\" Then\\norders are taken, and a batch of frammitzes large enough to cover the\\npre-paid orders is produced (and quickly consumed). So if you want a\\nDoD doodad, act quickly the next time somebody decides to do one. Or\\nproduce one yourself if you see a void that needs filling, after all\\nthis is anarchy in action.\\n\\nHere\\'s a possibly incomplete list of known DoD merchandise (and\\nperpetrators). Patches (DoD#11), pins (DoD#99), stickers (DoD#99),\\nmotorcycle license plate frames (DoD#216), t-shirts (DoD#99), polo shirts\\n(DoD#122), Zippo lighters (DoD#99) [LtF FtL], belt buckles (DoD#99), and\\npatches (DoD#99) [a second batch was done (and rapidly consumed) by\\npopular demand].\\n\\nAll \"profits\" have been donated to the American Motorcyclist Association\\nMotorcycle Heritage Museum. As of June 1992, over $5500 dollars has been\\ncontributed to the museum fund by the DoD. If you visit the museum,\\nyou\\'ll see a large plaque on the Founders\\' Wall in the name of \"Denizens\\nof Doom, USENET, The World\", complete with a DoD pin.\\n\\n------------------------------------------------------------------------\\n\\nHere\\'s a letter from the AMA to the DoD regarding our contributions.\\n\\n~Newsgroups: rec.motorcycles\\n~From: Arnie Skurow <arnie@magnus.acs.ohio-state.edu>\\n~Subject: A letter from the Motorcycle Heritage Museum\\n~Date: Mon, 13 Apr 1992 11:04:58 GMT\\n\\nI received the following letter from Jim Rogers, director of the Museum,\\nthe other day.\\n\\n\"Dear Arnie and all members of the Denizens of Doom:\\n\\nCongratulations and expressions of gratitude are in order for you and the\\nDenizens of Doom!  With your recent donation, the total amount donated is\\nnow $5,500.  On behalf of the AMHF, please extend my heartfeld gratitude\\nto all the membership of the Denizens.  The club\\'s new plaque is presently\\nbeing prepared.  Of course, everyone is invited to come to the museum to \\nsee the plaque that will be installed in our Founders Foyer.  By the way,\\nI will personally mount a Denizens club pin on the plaque.  Again, thank \\nyou for all your support, which means so much to the foundation, the\\nmuseum, and the fulfillment of its goals.\\n\\n                                Sincerely,\\n\\n\\n                                Jim Rogers, D.O.D. #0395\\n                                Director\\n\\nP.S.  Please post on your computer bulletin board.\"\\n\\nAs you all know, even though the letter was addressed to me personally,\\nit was meant for all of you who purchased DoD goodies that made this\\namount possible.\\n\\nArnie\\n\\n------------------------------------------------------------------------\\n\\nThe Rules, Regulations, & Bylaws of the Denizens of Doom Motorcycle Club\\n\\nFrom time to time there is some mention, discussion, or flame about the\\nrules of the DoD. In order to fan the flames, here is the complete text\\nof the rules governing the DoD.\\n\\n\\t\\t\\tRule #1. There are no rules.\\n\\t\\t\\tRule #0. Go ride.\\n\\n------------------------------------------------------------------------\\n\\n\\t\\tOther rec.motorcycles information resources.\\n\\nThere are several general rec.motorcycles resources that may or may not\\nhave anything to do with the DoD. Most are posted on a regular basis,\\nbut they can also be obtained from the cerritos ftp/e-mail server (see\\nthe info on the photo archive above).\\n\\nA general rec.motorcycles FAQ is maintained by Dave Williams.\\nCerritos filenames are FAQn.TXT, where n is currently 1-5.\\n\\nThe DoD Yellow Pages, a listing of motorcycle industry vendor phone\\nnumbers & addresses, is maintained by bob pakser.\\nCerritos filename is YELLOW_PAGES_Vnn, where n is the rev. number.\\n\\nThe List of the DoD membership is maintained by The Keeper of the List.\\nCerritos filename is DOD.LIST.\\n\\nThis WitDoD FAQ (surprise, surprise!) is maintained by yours truly.\\nCerritos filename is DOD_FAQ.TXT.\\n\\nAdditions, corrections, etc. for any of the above should be aimed at\\nthe keepers of the respective texts.\\n\\n------------------------------------------------------------------------\\n\\n(Loki Jorgenson loki@Physics.McGill.CA) has provided an archive site\\nfor motorcycle and accessory reviews, here\\'s an excerpt from his\\nperiodic announcement.\\n\\n**********************************************************\\n\\n\\tThe Rec.Motorcycles.Reviews Archives (and World Famous Llama\\n  Emporium) contains a Veritable Plethora (tm) of bike (and accessories)\\n  reviews, written by rec.moto readers based on their own experiences.\\n  These invaluable gems of opinion (highly valued for their potential to\\n  reduce noise on the list) can be accessed via anonymous FTP, Email\\n  server or by personal request:\\n\\n  Anonymous FTP:\\t\\tftp.physics.mcgill.ca (132.206.9.13)\\n\\t\\t\\t\\t\\tunder ~ftp/pub/DoD\\n  Email archive server:\\t\\trm-reviews@ftp.physics.mcgill.ca\\n  Review submissions/questions:\\trm-reviews@physics.mcgill.ca\\n\\n  NOTE: There is a difference in the addresses for review submission\\n      and using the Email archive server (ie. an \"ftp.\").\\n\\n  To get started with the Email server, send an Email message with a line\\n  containing only \"send help\".  \\n\\n  NOTE: If your return address appears like\\n\\tdomain!subdomain!host!username\\n      in your mail header, include a line like (or something similar)\\n\\tpath username@host.subdomain.domain \\n\\n\\tIf you are interested in submitting a review of a bike that you\\n  already own(ed), PLEASE DO!  There is a template of the format that the\\n  reviews are kept in (more or less) available at the archive site .\\n  For those who have Internet access but are unsure of how anonymous\\n  FTP works, an example script is available on request.\\n\\n**********************************************************\\n\\nReviews of any motorcycle related accessory or widget are welcome too.\\n\\n------------------------------------------------------------------------\\n\\n            Updated stats & rec.motorcycles rides info\\n\\nSome of the info cited above in various places tends to be a moving\\ntarget. Rather than trying to catch every occurence, I\\'m just sticking\\nthe latest info down here.\\n\\nEstimated rec.motorcycles readership: 35K  [news.groups]\\n \\nApproximate DoD Membership: 975  [KotL]\\n\\nDoD contributions to the American Motorcyclist Association Motorcycle\\nHeritage Museum. Over $5500  [Arnie]\\n \\n                        Organized (?) Rides:\\n\\nSummer 1992 saw more organized rides, with the Joust in its third\\nyear, and the Ride & Feed going strong, but without the Rollins Pass\\ntrip due to the collapse of a tunnel.  The East Coast Denizens got\\ntogether for the Right Coast Ride (RCR), with bikers from as far north\\nas NH, and as far south as FL meeting in the Blueridge Mountains of\\nNorth Carolina.  The Pacific Northwest crew organized  the first Great\\nPacific Northwest Dryside Gather (GPNDG), another successful excuse for\\nriding motorcycles, and seeing the faces behind the names we all have\\ncome to know so well.  [Thanks to Ed Green for the above addition.]\\n\\nAlso worth mentioning are: The first rec.moto.dirt ride, held in the\\nMoab/Canyonlands area of southern Utah. Riders from 5 states showed up,\\nriding everything from monster BMWs to itty-bitty XRs to almost-legal\\n2-strokes.  And though it\\'s not an \"official\" (as if anything could be\\nofficial with this crowd) rec.moto event, the vintage motorcycle races\\nin Steamboat Springs, Colorado always provides a good excuse for netters\\nto gather.  There\\'s also been the occasional Labor Day gather in Utah.\\nEuropean Denizens have staged some gathers too.  (Your ad here,\\nreasonable rates!)\\n------------------------------------------------------------------------\\n-- \\nBlaine Gardner @ Evans & Sutherland   580 Arapeen Drive, SLC, Utah 84108\\n       blgardne@javelin.sim.es.com     BIX: blaine_g@bix.com      FJ1200\\nHalf of my vehicles and all of my computers are Kickstarted.      DoD#46\\n-- \\nBlaine Gardner @ Evans & Sutherland   580 Arapeen Drive, SLC, Utah 84108\\n       blgardne@javelin.sim.es.com     BIX: blaine_g@bix.com      FJ1200\\nHalf of my vehicles and all of my computers are Kickstarted.      DoD#46\\n', 'Newsgroups: rec.motorcycles\\nPath: cantaloupe.srv.cs.cmu.edu!rochester!udel!darwin.sura.net!wupost!uunet!murphy!jpradley!magpie!manes\\nFrom: manes@magpie.linknet.com (Steve Manes)\\nSubject: Re: Oops! Oh no!\\nOrganization: Manes and Associates, NYC\\nDate: Thu, 1 Apr 1993 17:43:29 GMT\\nMessage-ID: <C4tFwI.DLp@magpie.linknet.com>\\nX-Newsreader: TIN [version 1.1 PL9]\\nReferences: <1pd49g$a8m@vtserf.cc.vt.edu>\\nLines: 53\\n\\nWm. L. Ranck (ranck@joesbar.cc.vt.edu) wrote:\\n:    I hate to admit this, and I\\'m still mentally kicking myself for it.\\n: I rode the brand new K75RT home last Friday night.  100 miles in rain\\n: and darkness.  No problems.  Got it home and put it on the center stand.\\n:    The next day I pushed it off the center stand in preparation for going\\n: over to a friend\\'s house to pose.  You guessed it.  It got away from me\\n: and landed on its right side.  \\n:    Scratched the lower fairing, cracked the right mirror, and cracked the\\n: upper fairing.  \\n:    *DAMN* am I stupid!  It\\'s going to cost me ~$200 to get the local\\n: body shop to fix it.  And that is after I take the fairing off for them.\\n: Still, that\\'s probably cheaper than the mirror alone if I bought a \\n: replacement from BMW.\\n\\nYou got off cheap.  My sister\\'s ex-boyfriend was such an incessant pain\\nin the ass about wanting to ride my bikes (no way, Jose) that I\\nfinally took him to Lindner\\'s BMW in New Canaan, CT last fall where\\nI had seen a nice, used K100RS in perfect condition.  After telling\\neveryone in the shop his Norton war stories from fifteen years ago,\\nsigning the liability waiver, and getting his pre-flight, off he went...\\n\\nWell, not quite.  I walked out of a pizza shop up the street,\\nfeeling good about myself (made my sister\\'s boyfriend happy and got\\nthe persistent wanker off my ass for good), heard the horrendous\\nracket of an engine tortured to its red line and then a crash.  I\\nsaw people running towards the obvious source of the disturbance...\\nJeff laying under the BMW with the rear wheel spinning wildly and\\nsomeone groping for the kill switch.  I stared in disbelief with\\na slice hanging out of my mouth as Matty, the shop manager, slid\\nup beside me and asked, \"Friend of yours, Steve?\".  \"Shit, Matty,\\nit could have been worse.  That could been my FLHS!\"\\n\\nJeff hadn\\'t made it 10 inches.  Witnesses said he lifted his feet\\nbefore letting out the clutch and gravity got the best of him.\\nJeff claimed that the clutch didn\\'t engage.  Matty was quick.\\nWhile Jeff was still stuttering in embarrassed shock he managed\\nto snatch Jeff\\'s credit card for a quick imprint and signature.  Twenty\\nminutes later, when Jeff\\'s color had paled to a flush, Matty\\npresented him with an estimate of $580 for a busted right mirror\\nand a hairline crack in the fairing.  That was for fixing the crack\\nand masking the damaged area, not a new fairing.  Or he could buy the\\nbike.\\n\\nI\\'m not sure what happened later as my sister split up with Jeff shortly\\nafterwards (to hook up with another piece of work) except that Matty\\ntold me he ran the charge through in December and that it went\\nuncontested.\\n\\n\\n-- \\nStephen Manes\\t\\t\\t\\t\\t   manes@magpie.linknet.com\\nManes and Associates\\t\\t\\t\\t   New York, NY, USA  =o&>o\\n\\n', 'Path: cantaloupe.srv.cs.cmu.edu!das-news.harvard.edu!ogicse!network.ucsd.edu!news.service.uci.edu!ucivax!megatek!randy\\nFrom: randy@megatek.com (Randy Davis)\\nNewsgroups: rec.motorcycles\\nSubject: Re: A Miracle in California\\nMessage-ID: <1993Apr5.223941.11539@megatek.com>\\nDate: 5 Apr 93 22:39:41 GMT\\nArticle-I.D.: megatek.1993Apr5.223941.11539\\nReferences: <95.602CV3dTx01@JUTS.ccc.amdahl.com> <1ppvof$92a@seven-up.East.Sun.COM>\\nSender: randy@megatek.com (Randy Davis)\\nReply-To: randy@megatek.com\\nOrganization: Megatek Corporation, San Diego, California\\nLines: 15\\n\\nIn article <1ppvof$92a@seven-up.East.Sun.COM> egreen@East.Sun.COM writes:\\n|Bikers wave to bikers the world over.  Whether or not Harley riders\\n|wave to other bikers is one of our favorite flame wars...\\n\\n  I am happy to say that some Harley riders in our area are better than most\\nthat are flamed about here: I (riding a lowly sport bike, no less) and my\\ngirlfriend were the recipient of no less than twenty waves from a group of\\nat least twenty-five Harley riders.  I was leading a group of about four\\nsport bikes at the time (FJ1200/CBR900RR/VFR750).  I initiated *some* of the\\nwaves, but not all.  It was a perfect day, and friendly riders despite some\\nbrand differences made it all the better...\\n\\nRandy Davis                            Email: randy@megatek.com\\nZX-11 #00072 Pilot                            {uunet!ucsd}!megatek!randy\\nDoD #0013\\n', 'Path: cantaloupe.srv.cs.cmu.edu!crabapple.srv.cs.cmu.edu!fs7.ece.cmu.edu!europa.eng.gtefsd.com!gatech!news-feed-1.peachnet.edu!umn.edu!msus1.msus.edu!stafford.winona.msus.edu!user\\nNewsgroups: rec.motorcycles\\nSubject: Re: more DoD paraphernalia\\nMessage-ID: <Stafford-050493122618@stafford.winona.msus.edu>\\nFrom: Stafford@Vax2.Winona.MSUS.Edu (John Stafford)\\nDate: 5 Apr 93 13:30:02 -0600\\nFollowup-To: rec.motorcycles\\nReferences: <1993Apr5.145301.6763@rd.hydro.on.ca> <1pppnrINNitg@cronkite.Central.Sun.COM>\\nDistribution: world\\nOrganization: Winona State University\\nNntp-Posting-Host: stafford.winona.msus.edu\\nLines: 11\\n\\nIn article <1pppnrINNitg@cronkite.Central.Sun.COM>,\\ndoc@webrider.central.sun.com (Steve Bunis) wrote:\\n> \\n> How about a decal of thicker vinyl? \\n\\n  How about a Geeky temporary tatoo?  I mean, why should the \\n  RUBs be exempt from a little razzing.\\n\\n====================================================\\nJohn Stafford   Minnesota State University @ Winona\\n                    All standard disclaimers apply.\\n']\n",
      "['100521', '101666', '102151', '102584', '102585']\n",
      "['Path: cantaloupe.srv.cs.cmu.edu!rochester!udel!bogus.sura.net!jhunix.hcf.jhu.edu!jhunix.hcf.jhu.edu!not-for-mail\\nFrom: admiral@jhunix.hcf.jhu.edu (Steve C Liu)\\nNewsgroups: rec.sport.baseball\\nSubject: spring records\\nDate: 17 Mar 1993 15:30:03 -0500\\nOrganization: Homewood Academic Computing, Johns Hopkins University, Baltimore, Md, USA\\nLines: 26\\nSender: admiral@jhunix.hcf.jhu.edu\\nDistribution: world\\nExpires: 5/9/93\\nMessage-ID: <1o81obINN9f7@jhunix.hcf.jhu.edu>\\nNNTP-Posting-Host: jhunix.hcf.jhu.edu\\nSummary: Earl Weaver Commandments\\n\\n\\tThe Orioles\\' pitching staff again is having a fine exhibition season.\\nFour shutouts, low team ERA, (Well, I haven\\'t gotten any baseball news since\\nMarch 14 but anyways) Could they contend, yes. Could they win it all?  Maybe.\\n\\nBut for all those fans of teams with bad spring records, remember Earl\\nWeaver\\'s first law of baseball (From his book on managing)\\n\\nNo one gives a damn in July if you lost a game in March. :)\\n\\nBTW, anyone have any idea on the contenders for the O\\'s fifth starter?\\nIt\\'s pretty much set that Sutcliffe, Mussina, McDonald and Rhodes are the\\nfirst four in the rotation.\\n\\nHere at Johns Hopkins University where the mascot is the Blue Jay :(,\\ntheir baseball team logo was the Toronto club\\'s logo. Now it\\'s a \\nanatomically correct blue jay. God, can\\'t they think of an original idea?\\nIt\\'s even in the same pose as the baltimore oriole on the O\\'s hats.\\nHow many people realize that the bird is really called a baltimore oriole?\\n__________________________________________________________________________\\n|Admiral Steve C. Liu        Internet Address: admiral@jhunix.hcf.jhu.edu|\\n|\"Committee for the Liberation and Intergration of Terrifying Organisms  |\\n|and their Rehabilitation Into Society\" from Red Dwarf - \"Polymorph\"     |\\n|****The Bangles are the greatest female rock band that ever existed!****|\\n|   This sig has been brought to you by... Frungy! The Sport of Kings!   |\\n~~~~~~~~~~~~~~~~~~~~~~~~~~~~~~~~~~~~~~~~~~~~~~~~~~~~~~~~~~~~~~~~~~~~~~~~~~\\n \\n', 'Path: cantaloupe.srv.cs.cmu.edu!das-news.harvard.edu!husc-news.harvard.edu!hsdndev!wupost!tulane!ukma!smith\\nNewsgroups: rec.sport.baseball\\nSubject: Re: Eck vs Rickey (was Re: Rickey\\'s whining again)\\nMessage-ID: <C4oF8s.ECv@ms.uky.edu>\\nFrom: smith@ms.uky.edu (Brian Smith)\\nDate: 30 Mar 93 00:41:15 GMT\\nExpires: Sat, 1 May 1993 04:00:00 GMT\\nReferences: <1993Mar11.061739.21570@mnemosyne.cs.du.edu> <C4EsxE.Ly2@megatest.com> <6998@blue.cis.pitt.edu>\\nDistribution: usa\\nOrganization: University Of Kentucky, Dept. of Math Sciences\\nLines: 169\\n\\nIn article <6998@blue.cis.pitt.edu> genetic+@pitt.edu (David M. Tate) writes:\\n>I\\'ve read all of the followups to this, but I thought I\\'d go back to the\\n>original article to make specific comments about the method:\\n>\\n>\\n>jao@megatest.com (John Oswalt) said:\\n>>\\n>>He has obtained the play by play records, in computer readable\\n>>form, for every major league baseball game for the past several years.\\n>>He devised an algorithm which I call \"sum-over-situations\", and wrote\\n>>a computer program to calculate every major league players contribution\\n>>using it.  It works like this:\\n>>\\n>>Look at every \"situation\" in every game in a baseball season.  A\\n>>situation is determined by inning, score, where the baserunners are,\\n>>and how many outs there are.  For each situation, count how many\\n>>times the team eventually won the game that the situation occured in,\\n>>and divide by the number of times the situation came up, to come up with\\n>>a \"value\" for that situation.\\n>\\n>This was first done by George Lindsey in the late \\'50s/early \\'60s, and\\n>reported in \\n>\\n>\\tArticle:\\tAn Investigation of Strategies in Baseball\\n>\\tAuthor:\\t\\tGeorge R. Lindsey\\n>\\tJournal:\\tOperations Research\\n>\\tIssue:\\t\\tVolume 11 #4, July-August 1963, pp. 477-501\\n>\\n>Later, Pete Palmer did the same thing using simulated seasons to generate\\n>a larger set of data to avoid the kind of small-sample anomalies that other\\n>people have worried about.  He reported this in _The_Hidden_Game_of_Baseball_\\n>(with John Thorn).  Gary Skoog modified the method a bit and did some work\\n>on what he called a \"Value Added\" measure based on these situational values.\\n>His were based directly on marginal runs, though, not on win probabilities.\\n>These results, as applied to the 198? season, were reported in one of the\\n>Bill James Baseball Abstract books (1987?  Help me out here, somebody...)\\n>\\n>>For example, a situation might be inning 3, score 2-0, runner on second\\n>>and no outs.  There were 4212 regular season major league games last\\n>>year.  (With the Rockies and Marlins, there will be more this year.)\\n>>Say this situation came up in 100 of those, and the team ahead won\\n>>75 of them.  Then the value of this situation is 0.75.\\n>\\n>[Description of method: look at change in win probability based on the at bat\\n> plus any baserunning, and credit/debit the player by that amount each time\\n> he gets a plate appearance.]\\n>\\n>>Now, for each player, sum up all his at-bat and base-running values\\n>>for the season to obtain an overall value for that player.  Obviously\\n>>the sum of all players\\' values for each game, and for the season as a\\n>>whole, will be 0.\\n>\\n>That\\'s only because you always credit +x to the batter and -x to the pitcher;\\n>there\\'s no validation involved.\\n>\\n>OK, there\\'s a very big problem here that nobody has yet commented on: you\\'re\\n>adding *probabilities*, and probabilities don\\'t add.  Runs you can add; the\\n>total team runs breaks down into how many runs Joe contributed plus how many\\n>runs Fred contributed, etc.  But probabilities don\\'t work that way.  If Bob\\n>increases his team\\'s chance of winning by 1% in each of 400 PAs, that does\\n>not mean that Bob increased his team\\'s chance of winning by 400%.  In fact,\\n>it doesn\\'t mean *anything*, because the units are screwy.\\n\\nI agree and disagree.  John is saying that the batters efforts will result\\nin 4 more wins then losses.  While you are probably correct that 400%\\ndoes not mean 4 more wins then losses, it means something.  I would\\nrather have a player who increased my teams chances of winning by 1% in\\neach of 400 PAs then I would a player who increased my chances of winning\\nby .5% in each of 400 PAs.  Thus, there appears to me to be an obvious\\npositive association between John\\'s statistic and winning games.  Thus,\\nbefore you disregard this stat, it appears to me that further study must\\ngo into what sort of relationship there is.\\n\\n>Consider an example:  Bob hits a 2-out solo HR in the bottom of the first;\\n>about .12 on your scale.  He does the same thing again in the fourth, with\\n>the score tied, for another .14.  And again, in the seventh, with the score\\n>tied, for another .22.  And, finally, in the ninth to win the game by a score\\n>of 7-6, for a value of 0.5.  Bob hit 4 solo HR in 4 plate appearances, and\\n>was credited by your method with .12 + .14 + .22 + .5 = .98.  But what does\\n>that mean?  Was Bob 98% responsible for the win?  Certainly not; the defense\\n>is *always* 50% responsible (if you include pitching in that), and Bob wasn\\'t\\n>pitching.  In fact, Bob was only 4/7 of the offense (which is a lot, but not\\n>even close to 100%).  Furthermore, what about the other 3 team runs?  Say\\n>they all came on solo HR by Fred; then Fred was hitting HR to tie up the game,\\n>which are just as valuable as HR to take the lead (see Lindsey), and Fred will\\n>himself have accrued a good .4 rating or so.  So Fred and Bob combined have\\n>amassed 138% of a win IN ONE GAME.  There\\'s clearly a problem here.\\n\\nThe only problem here is an insistance that these number mean exactly\\nhow many wins the team has.  First, we are using averages over many\\nseasons and applying them to one game.  Second, remember some players\\nperformance take away from the chance of you winning.  That is a\\nplayer who gets an out gets a \"negative probability\" in most cases.\\nThus, I\\'m not sure in any given game when you add up all the numbers\\nfor a team who won that they will add up to 1 in that game.  Sometimes,\\nthey will add up to more then one sometime, less than one.  Also,\\nthe pitchers\\' bad performances (giving up 6 runs) may have given\\nthem a large negative percentage for that game.  Also, any batter that\\npulled an 0-4 night would give large negatives.  \\n\\n\\n\\n>>Greg thinking about the right things, but his intuition is off the\\n>>mark.  Closers are enormously important.  The total number of runs\\n>>value is outweighed by when they come, or are prevented from comming.\\n>>The doubling which Greg allows is not enough.\\n>\\n>In another article, I proposed a test of this.  We can predict a team\\'s \\n>won/lost record quite accurately by looking at how many runs *total* they\\n>score and allow, without regard to when those runs score in the game.  If\\n>late runs are really more important than early runs, then looking only at\\n>late runs should lead to a *better* predictor, right?\\n\\nNo, but really only because you have a smaller sample size.  I would\\nthink however, that the number of runs you score in the first inning\\nwould be just as good as a prediction as how many runs you score \\nin the last inning.  And, realize something else a closer usually\\ncomes in in a close situation, not a blow out.  It is hard to argue\\nthat any runs that a closer gives up in a game have equal importance\\nto those given up in the first inning.  Look, a closer giving up runs\\noften means a team will lose many games.  On, the other hand a starter\\nwho gives up runs often still leaves his team a chance to win.  The\\noffence has many more outs to do something about.  But, I am not\\nsaying all late inning situations are equally important either.  If\\nI am down 8 runs in the ninth, it really does not matter how many\\nruns my pitcher gives up in the ninth.       \\n\\n>Here\\'s another thought experiment: apply this method to basketball.  What\\n>you find is that points scored in the first *half* of the game have almost\\n>exactly no value, because no lead is safe with an entire half yet to play.\\n>Furthermore, the sub in off the bench who sinks the winning free throws with\\n>no time on the clock gets a +1.0 for the game, while the star forward who \\n>scored 27 points in the first half before spraining his ankle gets a zero.\\n>\\n>Does this make sense?\\n\\n\\nNo, but why would you assume that the teams probability of winning would\\nbe 0 before the possesion in which the free throws were made.  Look,\\nif you are down 1 point with 5 seconds left, there is a fairly high\\nprobability that you will win the game if you are in possesion of the\\nball.  And, do not forget that somebody elses missed shots, turnovers,\\nfouls, bad defense, etc. caused a \"negative chance\" that the team\\nwould win.\\n \\nFrom reading all of the discussion on this statistic, I feel that those\\nwho critisize it to a certain extent are doing so out of an agenda.\\nAt first look this statistic valadates clutchness.  But, it really\\ndoes not.  Cluthness revolves around the idea that certain players\\nin crucial situation elevate their performance and others performance\\ngoes down.  I\\'ve never seen convincing proof that this really happens.\\nSo, if you assume there is no clutchness, then that means that except\\nfor a lot of noice, this statistic has a positive association to\\nplayer performance.  There is a way to get rid of the noice if you\\ndo not believe in clutchness.  Certainly, we could find out what\\nthe average value of a home run is for example.  We may find for\\ninstance, that a home run increases your chance of winning by 15%\\non average while a strikeout decreases your chance of winning by 5%.\\nI bet if this were done we would find that this statistic was just\\nas good as other statistics we have for predicting wins and losses.\\n\\nHow do we evaluate relief pitchers?  Say John and Sam have the\\nexact same pitching statistics (runs, earned runs, K\\'s, BB\\'s,\\netc.)  Both had exceptional numbers.  John, however only pitched\\nin closer situations, while Sam was a Mop up man.  Who was more\\nvaluble to their team?  Probably John.  Who was the better \\npitcher?  They were probably about the same.\\n\\n                                                        Brian Smith\\n', 'Path: cantaloupe.srv.cs.cmu.edu!crabapple.srv.cs.cmu.edu!fs7.ece.cmu.edu!europa.eng.gtefsd.com!emory!sol.ctr.columbia.edu!zaphod.mps.ohio-state.edu!darwin.sura.net!jhunix.hcf.jhu.edu!jhunix.hcf.jhu.edu!not-for-mail\\nFrom: admiral@jhunix.hcf.jhu.edu (Steve C Liu)\\nNewsgroups: rec.sport.baseball\\nSubject: Re: NO JOKE: ROCKIES HAVE ATTENDANCE RECORD!!!!\\nDate: 1 Apr 1993 14:38:03 -0500\\nOrganization: Homewood Academic Computing, Johns Hopkins University, Baltimore, Md, USA\\nLines: 23\\nSender: admiral@jhunix.hcf.jhu.edu\\nDistribution: usa\\nExpires: 5/9/93\\nMessage-ID: <1pfgarINNq7s@jhunix.hcf.jhu.edu>\\nReferences: <wilbanks.733682487@spot.Colorado.EDU>\\nNNTP-Posting-Host: jhunix.hcf.jhu.edu\\nSummary: OPCY is just too small...\\n\\nHell, the Orioles\\' Opening Day game could easily be the largest in history\\nif we had a stadium with 80,000 seats. But unfortunely the Yards (a\\ndefinitely excellent ballpark) only holds like 45,000 with 275 SRO spots.\\nTicket sales for the entire year is moving fast. Bleacher seats are almost\\ngone for every game this year. It\\'s a extremely likelyhood that the O\\'s\\ncould sell out every game this year (especially if we lead the division for\\nmost of the year like \\'89). \\n\\tOn another front, the sale of the Orioles to anyone is likely to be\\nforced upon Eli Jacobs who is major debt apparently. Maybe we can get an\\nowner willing to spend on a proven rightfielder free agent in the winter.\\n\\tFernando has made the O\\'s as the fifth starter. The O\\'s pitching\\nstaff looks pretty good. Sutcliffe, Mussina, McDonald, Rhodes, and Fernando.\\n\\tBaltimore is my pick for the victors in a very competitive AL East.\\n__________________________________________________________________________\\n|Admiral Steve C. Liu        Internet Address: admiral@jhunix.hcf.jhu.edu|\\n|\"Committee for the Liberation and Intergration of Terrifying Organisms  |\\n|and their Rehabilitation Into Society\" from Red Dwarf - \"Polymorph\"     |\\n|****The Bangles are the greatest female rock band that ever existed!****|\\n|   This sig has been brought to you by... Frungy! The Sport of Kings!   |\\n~~~~~~~~~~~~~~~~~~~~~~~~~~~~~~~~~~~~~~~~~~~~~~~~~~~~~~~~~~~~~~~~~~~~~~~~~~\\n Second to last day of the season - Gregg (The True Wild Thing) Olson\\nuncorks a wild pitch allowing the Blue Jays to tie. Blue Jays win in the\\n11th and ends the Baby Birds\\' miracle season of \\'89.\\n', 'Path: cantaloupe.srv.cs.cmu.edu!das-news.harvard.edu!ogicse!uwm.edu!linac!uchinews!kimbark!thf2\\nFrom: thf2@kimbark.uchicago.edu (Ted Frank)\\nNewsgroups: rec.sport.baseball\\nSubject: Players Overpaid?\\nMessage-ID: <1993Apr5.231343.17894@midway.uchicago.edu>\\nDate: 5 Apr 93 23:13:43 GMT\\nArticle-I.D.: midway.1993Apr5.231343.17894\\nSender: news@uchinews.uchicago.edu (News System)\\nReply-To: thf2@midway.uchicago.edu\\nOrganization: University of Chicago\\nLines: 42\\n\\nThere\\'s a lot of whining about how much players are overpaid.  I thought\\nI\\'d put together an underpaid team that could win a pennant.  I splurged\\nand let four of the players earn as much as half a million dollars; the\\nhighest-paid player is Frank Thomas, at $900K.  I cut some players, like\\nKenny Lofton, Chris Hoiles, Keith Mitchell, Tim Wakefield, and a bunch\\nof pitchers, all of whom could have arguably made the team better at a\\ncost of $1 million for the lot of them.  The total team salary is \\n$7,781,500, averaging slightly over $300K a player.  If that\\'s too steep,\\nyou can dump Thomas and Bagwell, replacing them with Paul Sorrento and\\na minimum wager to save a bit over a million dollars, and still have one\\nof the best teams in the majors.\\n\\np, Juan Guzman, 500\\np, Mussina,\\t400\\np, Castillo,    250\\np, Eldred,      175\\np, Rhodes,\\t155\\np, Militello,   118\\nrp, Rojas,\\t300\\nrp, Beck,\\t250\\nrp, Melendez,   235\\nrp, Hernandez,\\t185\\nrp, Nied,\\t150\\nc, Rodriguez,\\t275\\nc, Piazza,      126\\n1b, Thomas,\\t900\\n1b, Bagwell,    655\\n2b, Knoblauch,\\t500\\n2b, Barberie,\\t190\\n3b, Gomez,\\t312.5\\n3b, Palmer,\\t250\\nss, Listach,\\t350\\nss, Pena,\\t170\\nlf, Gonzalez,\\t525\\ncf, Lankford,\\t290\\nrf, R.Sanders,\\t275\\nof, Plantier,\\t245\\n-- \\nted frank                 | \"However Teel should have mentioned that though \\nthf2@kimbark.uchicago.edu |  his advice is legally sound, if you follow it \\nthe u of c law school     |  you will probably wind up in jail.\"\\nstandard disclaimers      |                    -- James Donald, in misc.legal\\n', \"Newsgroups: rec.sport.baseball\\nPath: cantaloupe.srv.cs.cmu.edu!crabapple.srv.cs.cmu.edu!fs7.ece.cmu.edu!europa.eng.gtefsd.com!howland.reston.ans.net!zaphod.mps.ohio-state.edu!caen!batcomputer!cornell!tedward\\nFrom: tedward@cs.cornell.edu (Edward [Ted] Fischer)\\nSubject: Re: Rickey Henderson\\nMessage-ID: <1993Apr5.182833.25212@cs.cornell.edu>\\nOrganization: Cornell Univ. CS Dept, Ithaca NY 14853\\nReferences: <1993Apr5.173500.26383@ra.msstate.edu>\\nDistribution: usa\\nDate: Mon, 5 Apr 1993 18:28:33 GMT\\nLines: 12\\n\\nIn article <1993Apr5.173500.26383@ra.msstate.edu> js1@Isis.MsState.Edu (Jiann-ming Su) writes:\\n>I say buy out Henderson's contract and let him go bag groceries.  Next \\n>season, you'll be able to sign him for nothing.  That goes for any bitching\\n>ball player.\\n\\nI doubt Henderson would clear waivers.  And if he did, he would\\ninstantly be signed for the major league minimum, with Oakland picking\\nup the remaining $3 million tab.\\n\\nSome GMs value on-field performance too...\\n\\n-Valentine\\n\"]\n",
      "['52550', '52551', '52552', '52553', '52554']\n",
      "['Newsgroups: rec.sport.hockey\\nPath: cantaloupe.srv.cs.cmu.edu!crabapple.srv.cs.cmu.edu!fs7.ece.cmu.edu!europa.eng.gtefsd.com!howland.reston.ans.net!spool.mu.edu!torn!newshub.ccs.yorku.ca!ists!stpl.ists.ca!dchhabra\\nFrom: dchhabra@stpl.ists.ca (Deepak Chhabra)\\nSubject: Superstars and attendance (was Teemu Selanne, was +/- leaders)\\nMessage-ID: <1993Apr5.182124.17415@ists.ists.ca>\\nSender: news@ists.ists.ca (News Subsystem)\\nNntp-Posting-Host: stpl.ists.ca\\nOrganization: Solar Terresterial Physics Laboratory, ISTS\\nDistribution: na\\nDate: Mon, 5 Apr 93 18:21:24 GMT\\nLines: 115\\n\\n\\nDean J. Falcione (posting from jrmst+8@pitt.edu) writes:\\n[I wrote:]\\n\\n>>When the Pens got Mario, granted there was big publicity, etc, etc,\\n>>and interest was immediately generated.  Gretzky did the same thing for LA. \\n>>However, imnsho, neither team would have seen a marked improvement in\\n>>attendance if the team record did not improve.  In the year before Lemieux\\n>>came, Pittsburgh finished with 38 points.  Following his arrival, the Pens\\n>>finished with 53, 76, 72, 81, 87, 72, 88, and 87 points, with a couple of\\n                          ^^\\n>>Stanley Cups thrown in.\\n      \\n>It was at this point the Pens attendance was near capacity (34 out of 40 \\n>sellouts) yet they hadn\\'t made the playoffs since 1982.  How do you explain\\n>a 6th place team breaking attendance records when they haven\\'t been to the\\n>playoffs in 7 years?  Mario Lemieux is the explanation, IMHO.  \\n\\n>You could make a case that the *expectation* of an improving team that\\n>would make the playoffs is the reason. \\n\\nFunny you should mention it...this is exactly the case I was going to make.\\n\\n>But I think the reason is Lemieux\\n>had a 168 point season and was the first non-Gretzky to win the Hart and\\n>Ross since 1980.  People turned out to watch him play. \\n\\nI will grant that a star like Mario will draw fans, even if the team sucks. \\nBut this is short term only; I still do not think the attendance increase \\nwill last, unless the team is a winning/competitive/improving/butt-kicking\\none.  Pittsburgh was still getting better, so people continued to support\\nthem.  If they suddenly dropped to, say, 50 points, you\\'d have knee surgery\\nfor some of the people jumping off the bandwagon.  \\n\\n>Also, the following year (88-89) the Pens had 89 points not 87. \\n\\nOk.  My numbers came from the NHL Guide and Record Book. \\n\\n>They made the transaction to try and build a winner around Mario, that is \\n>true.  But the improvement in attendance came before they started doing\\n>this (Coffey late in 1987) and before they even had a playoff bound team.\\n>A doubling of attendance occured in 1984-85 from the previous year.  An\\n>increase from 38 points to 53 points is not going to do that.  The arrival\\n>of Mario Lemieux is what did it. \\n\\nYou can give the credit to Mario since he deserves it.  But my point is that\\nit wasn\\'t Mario himself, but it was the *expectation* of things to come (i.e.\\na winning team) that he created by being the next great hockey superstar. And\\nbefore anybody jumps in and says I\\'m nit-picking and mincing words, go back\\nand read from where this thread started...\\n\\nIt might help to think about what would go through a fan\\'s mind who suddenly\\nfound an interest in Mario and the Pens.  Was it \"gee, Mario Lemieux is\\namazing, I\\'ll go watch him play\", or was it \"gee, now we\\'ve got a *kick*\\n*ass* guy on *our* side, I\\'ll go watch him play\".  I think it was the latter.\\n\\n> Similar thing happened in L.A.   Before\\n>Gretzky\\'s arrival, about 12000 per game.  After, constant sellouts.  They\\n>are STILL selling out every game despite showing little or no improvement\\n>since Gretzky\\'s first year there.  How do you explain it?  People are going\\n>to see Gretzky.  they certainly aren\\'t going to see a winner, they haven\\'t\\n>GOT a winner.  They\\'ve had MUCH better teams in their past history than\\n>they currently have, yet they didn\\'t draw as well then.\\n\\nI don\\'t think this is accurate.  The *tickets* sell, but people don\\'t go to\\nthe games.  I think this thread has already been discussed...season ticket\\nholders in LA don\\'t always use their tickets.  So in effect, after the Kings\\ninitial success following Gretzky\\'s arrival (68 to 91 points, same source)\\nand corresponding attendance jump, there has been an effective drop in\\nattendance even though ticket sales may not have changed much.  \\n\\nWhether or not the Kings are a \\'winner\\' is debatable.  I claim that since\\nGretzky\\'s arrival they have at the very least been competitive...I also claim\\nthat McNall has made a stupid move in trying to reassemble the Oiler\\ndynasty...but that\\'s another story and included only because I don\\'t like\\nMcNall:-).  Anyway,  McNall did do some heavy marketing around Gretzky, and\\nthat undoubtedly was also responsible for the attendance and merchandising\\nsales, etc.  But as I said, when the Kings have been in there little\\ntailspins over the past couple of years there have been empty seats at the\\nForum even if the tickets were sold.\\n\\n>I think in the case of a Lemieux or Gretzky, the player can transcend\\n>winning as the major drawing power.  \\n\\nFor the short term, IMO.  Although I think that it\\'s inevitable that the team\\nwill improve with a player such as Lemieux or Gretzky, simply because they\\nmake people around them better.\\n\\n>But winning sure as hell helps.  ;-)\\n\\nWell, at least we are in full agreement here!\\n\\n>This does not make Roger\\'s point any more valid, but the Jets aren\\'t\\n\\nSo are you saying Roger has ever had a valid point? <couldn\\'t resist...>\\n\\n>getting a HUGE jump in productivity, yet they ARE getting a huge\\n>jump in attendance.  This is due to the emergence of Teemu Selanne.\\n>They have the 17th best record in hockey, it sure as hell isn\\'t because\\n>they are winning.\\n\\nYes, but they are doing no worse than last year.  I think the same type of\\nreasoning I applied to a new Pittsburgh fan applies to all the extra people\\nshowing up at Winnipeg games.  It\\'s difficult to predict, but do you think\\nthat if the Jets miss the playoffs next season that in the year after they\\nwill maintain their attendance levels?  I seriously doubt it, because in that\\ncase the expectation of an improving team would be gone, with or without\\nSelanne.\\n\\nI did provide the example of Rocket Ismail and the Toronto Argonauts of the \\nCFL...did you leave it out because you don\\'t know much about the CFL?  If \\nthat\\'s the case then fair enough, but if it isn\\'t the case then I\\'m curious\\nto hear your explanation.\\n\\n\\n', 'Newsgroups: rec.sport.hockey\\nPath: cantaloupe.srv.cs.cmu.edu!crabapple.srv.cs.cmu.edu!fs7.ece.cmu.edu!europa.eng.gtefsd.com!howland.reston.ans.net!usc!cs.utexas.edu!utnut!torn!newshub.ccs.yorku.ca!ists!stpl.ists.ca!dchhabra\\nFrom: dchhabra@stpl.ists.ca (Deepak Chhabra)\\nSubject: Re: NHL team leaders in +/-\\nMessage-ID: <1993Apr5.185633.17843@ists.ists.ca>\\nSender: news@ists.ists.ca (News Subsystem)\\nNntp-Posting-Host: stpl.ists.ca\\nOrganization: Solar Terresterial Physics Laboratory, ISTS\\nReferences: <1993Mar29.010820.113@ramsey.cs.laurentian.ca> <C4nt1B.9LM@ccu.umanitoba.ca> <1993Mar29.190650.28940@ramsey.cs.laurentian.ca>\\nDate: Mon, 5 Apr 93 18:56:33 GMT\\nLines: 42\\n\\nIn article <1993Mar29.190650.28940@ramsey.cs.laurentian.ca> maynard@ramsey.cs.laurentian.ca (Roger Maynard) writes:\\n\\n>The Jets use the \"breakaway pass\" scheme to create a scoring sensation\\n>in order to generate interest.  If teams score as many or more goals\\n>against Winnipeg when Selanne is on the ice as Winnipeg scores when\\n>he is on the ice then I can\\'t see how his contribution can be described\\n>as impressive.  \\n\\nImplicitly you are assuming that goals scored against Winnipeg with Selanne\\non the ice can be blamed on him...Roger, he is a FORWARD.  Winnipeg has a\\nlousy defensive record anyway.  Let\\'s put it another way.  John Cullen\\'s +/-\\nis terrible.  What\\'s your excuse for him?  That his powerplay points don\\'t\\ncount?  Neither do Selanne\\'s... \\n\\n>The object of the game is not to feed Selanne - it is \\n>to win.  And feeding Selanne does not contribute in any meaningful way\\n>to winning.\\n\\nKnowledgeable hockey observers the world over would agree that\\nfeeding Selanne so he can score does contribute in a meaningful way to\\nwinning. \\n\\n>Pat Burns wouldn\\'t have a goal suck like this on his team.\\n\\nYou\\'re worried about Teemu when you have Glenn Anderson on your team?\\n\\n>We DON\\'T KNOW what Selanne does best.  We do know what Jet\\'s management\\n>wants.  And again, the object of the exercise is not to allow Selanne to\\n>do what he does best, it is to win hockey games.\\n\\nWhat he does best is score...so I refer you to my comment above.\\n\\n>As it is now, Selanne\\n>is a grandstanding goal suck.  Did you see the way he parades around\\n>with his arms outstretched after scoring a goal?  You would think the\\n>Messiah had returned...\\n\\nNope, didn\\'t see it.  I was too busy watching Foligno jump up and down after\\n_his_ goal....\\n\\n\\n\\n', \"Path: cantaloupe.srv.cs.cmu.edu!das-news.harvard.edu!ogicse!uwm.edu!zaphod.mps.ohio-state.edu!usc!aludra.usc.edu!not-for-mail\\nFrom: jbarrett@aludra.usc.edu (Jonathan Barrett)\\nNewsgroups: rec.sport.hockey\\nSubject: Re: This year's biggest and worst (opinion)...\\nKeywords: NHL, awards\\nMessage-ID: <1pqgq3INN2vn@aludra.usc.edu>\\nDate: 5 Apr 93 09:53:39 GMT\\nArticle-I.D.: aludra.1pqgq3INN2vn\\nReferences: <C4zCII.Ftn@watserv1.uwaterloo.ca>\\nSender: nntp@aludra.usc.edu\\nOrganization: University of Southern California, Los Angeles, CA\\nLines: 15\\nNNTP-Posting-Host: aludra.usc.edu\\n\\nI can only comment on the Kings, but the most obvious candidate for pleasant\\nsurprise is Alex Zhitnik. He came highly touted as a defensive defenseman, but\\nhe's clearly much more than that. Great skater and hard shot (though wish he\\nwere more accurate). In fact, he pretty much allowed the Kings to trade away\\nthat huge defensive liability Paul Coffey. Kelly Hrudey is only the biggest\\ndisappointment if you thought he was any good to begin with. But, at best, he's\\nonly a mediocre goaltender. A better choice would be Tomas Sandstrom, though\\nnot through any fault of his own, but because some thugs in Toronto decided \\nto threaten his career in order to avoid conceding a goal. Other than that, the\\naward goes to Robert Lang, an uninspiring Czech. Robitaille could easily be\\nMVP, but I'd prefer to give it to Rob Blake who is quietly becoming one of the\\nleague's premier defensemen, and if the Kings manage to hold onto him and the \\nrest of our young defense, it could one day mean that we'll let in fewer\\ngoals than Hartford. Honorable mentions to Majestic Marty and Warren Rychel.\\nJon\\n\", \"Path: cantaloupe.srv.cs.cmu.edu!das-news.harvard.edu!ogicse!network.ucsd.edu!news.service.uci.edu!nntpsrv\\nFrom: assist@orion.oac.uci.edu (ASSIST Coordination Site)\\nNewsgroups: rec.sport.hockey\\nSubject: Re: This year's biggest and worst (opinion)...\\nKeywords: NHL, awards\\nMessage-ID: <2BC0C6DF.18865@news.service.uci.edu>\\nDate: 5 Apr 93 23:55:11 GMT\\nArticle-I.D.: news.2BC0C6DF.18865\\nReferences: <C4zCII.Ftn@watserv1.uwaterloo.ca>\\nDistribution: world\\nOrganization: University of California, Irvine\\nLines: 20\\nNntp-Posting-Host: orion.oac.uci.edu\\n\\nIn article <C4zCII.Ftn@watserv1.uwaterloo.ca> smale@healthy.uwaterloo.ca (Bryan Smale) writes:\\n>                         MVP           Biggest       Biggest\\n>                                       Suprise       Disappointment\\n\\n>Los Angeles Kings       Robitaille     Donnelly      Hrudey\\n\\n\\nI would have chosen Alex Zhitnik for biggest suprise.  They\\ndid expect that he would become a great defenseman, but I don't\\nthink anyone knew that he was going to be this impressive in his \\nrookie year.  His speed, skating ability, and puck control is\\nexceptional -- he is the one to watch on the Kings.\\n\\n\\nKris\\nkris@fs2.assist.uci.edu\\n\\nGO KINGS!\\n\\n--\\n\", 'Path: cantaloupe.srv.cs.cmu.edu!das-news.harvard.edu!ogicse!uwm.edu!cs.utexas.edu!uunet!noc.near.net!bigboote.WPI.EDU!ching\\nFrom: ching@coyote.WPI.EDU (Jay Heminger)\\nNewsgroups: rec.sport.hockey\\nSubject: Re: NCAA finals...Winner????\\nMessage-ID: <1pqgt9$r46@bigboote.WPI.EDU>\\nDate: 5 Apr 93 23:55:21 GMT\\nArticle-I.D.: bigboote.1pqgt9$r46\\nReferences: <1993Apr4.165655.16932@miavx1.acs.muohio.edu>\\nDistribution: world\\nOrganization: Worcester Polytechnic Institute\\nLines: 9\\nNNTP-Posting-Host: coyote.wpi.edu\\nOriginator: ching@coyote.WPI.EDU\\n\\n\\nMaine beat LSSU 5-4.\\n\\n\\n-- \\n------------------------THE LOGISTICIAN REIGNS SUPREME!!!----------------------\\n|\\t\\t\\t\\t\\t\\t\\t\\t\\t      |\\n|   GO BLUE!!!   GO TIGERS!!!   GO PISTONS!!!   GO LIONS!!!   GO RED WINGS!!! |\\n-------------------------------ching@wpi.wpi.edu-------------------------------\\n']\n"
     ]
    }
   ],
   "source": [
    "print(rec_autos_filenames[0:5])\n",
    "print(rec_autos_texts[0:5])\n",
    "print(rec_motorcycles_filenames[0:5])\n",
    "print(rec_motorcycles_texts[0:5])\n",
    "print(rec_sport_baseball_filenames[0:5])\n",
    "print(rec_sport_baseball_texts[0:5])\n",
    "print(rec_sport_hockey_filenames[0:5])\n",
    "print(rec_sport_hockey_texts[0:5])"
   ]
  },
  {
   "cell_type": "code",
   "execution_count": 44,
   "metadata": {},
   "outputs": [],
   "source": [
    "mycrawled_texts = (\n",
    "    rec_autos_texts\n",
    "    + rec_motorcycles_texts\n",
    "    + rec_sport_baseball_texts\n",
    "    + rec_sport_hockey_texts\n",
    ")\n",
    "mycrawled_filenames = (\n",
    "    rec_autos_filenames\n",
    "    + rec_motorcycles_filenames\n",
    "    + rec_sport_baseball_filenames\n",
    "    + rec_sport_hockey_filenames\n",
    ")"
   ]
  },
  {
   "cell_type": "code",
   "execution_count": 45,
   "metadata": {},
   "outputs": [],
   "source": [
    "# Exclude header lines from each message\n",
    "excludedlinemarkers = [\n",
    "    \"Xref:\",\n",
    "    \"Path:\",\n",
    "    \"From:\",\n",
    "    \"Newsgroups:\",\n",
    "    \"Subject:\",\n",
    "    \"Summary:\",\n",
    "    \"Keywords:\",\n",
    "    \"Message-ID:\",\n",
    "    \"Date:\",\n",
    "    \"Expires:\",\n",
    "    \"Followup-To:\",\n",
    "    \"Distribution:\",\n",
    "    \"Organization:\",\n",
    "    \"Approved:\",\n",
    "    \"Supersedes:\",\n",
    "    \"Lines:\",\n",
    "    \"NNTP-Posting-Host:\",\n",
    "    \"References:\",\n",
    "    \"Sender:\",\n",
    "    \"In-Reply-To:\",\n",
    "    \"Article-I.D.:\",\n",
    "    \"Reply-To:\",\n",
    "    \"Nntp-Posting-Host:\",\n",
    "]\n",
    "for k in range(len(mycrawled_texts)):\n",
    "    templines = mycrawled_texts[k].splitlines()\n",
    "    remaininglines = []\n",
    "    for l in range(len(templines)):\n",
    "        line_should_be_excluded = 0\n",
    "        for m in range(len(excludedlinemarkers)):\n",
    "            if len(templines[l]) >= len(excludedlinemarkers[m]):\n",
    "                if (\n",
    "                    excludedlinemarkers[m]\n",
    "                    == templines[l][0 : len(excludedlinemarkers[m])]\n",
    "                ):\n",
    "                    line_should_be_excluded = 1\n",
    "                    break\n",
    "        if line_should_be_excluded == 0:\n",
    "            remaininglines.append(templines[l])\n",
    "    mycrawled_texts[k] = \"\\n\".join(remaininglines)"
   ]
  },
  {
   "cell_type": "code",
   "execution_count": 46,
   "metadata": {},
   "outputs": [],
   "source": [
    "# %% Tokenize loaded texts and change them to NLTK format\n",
    "mycrawled_nltktexts = []\n",
    "for k in range(len(mycrawled_texts)):\n",
    "    temp_tokenizedtext = nltk.word_tokenize(mycrawled_texts[k])\n",
    "    temp_nltktext = nltk.Text(temp_tokenizedtext)\n",
    "    mycrawled_nltktexts.append(temp_nltktext)"
   ]
  },
  {
   "cell_type": "code",
   "execution_count": 47,
   "metadata": {},
   "outputs": [],
   "source": [
    "# %% Make all crawled texts lowercase\n",
    "mycrawled_lowercasetexts = []\n",
    "for k in range(len(mycrawled_nltktexts)):\n",
    "    temp_lowercasetext = []\n",
    "    for l in range(len(mycrawled_nltktexts[k])):\n",
    "        lowercaseword = mycrawled_nltktexts[k][l].lower()\n",
    "        temp_lowercasetext.append(lowercaseword)\n",
    "    temp_lowercasetest = nltk.Text(temp_lowercasetext)\n",
    "    mycrawled_lowercasetexts.append(temp_lowercasetext)"
   ]
  },
  {
   "cell_type": "code",
   "execution_count": 48,
   "metadata": {},
   "outputs": [],
   "source": [
    "# %% Convert a POS tag for WordNet\n",
    "def tagtowordnet(postag):\n",
    "    wordnettag = -1\n",
    "    if postag[0] == \"N\":\n",
    "        wordnettag = \"n\"\n",
    "    elif postag[0] == \"V\":\n",
    "        wordnettag = \"v\"\n",
    "    elif postag[0] == \"J\":\n",
    "        wordnettag = \"a\"\n",
    "    elif postag[0] == \"R\":\n",
    "        wordnettag = \"r\"\n",
    "    return wordnettag"
   ]
  },
  {
   "cell_type": "code",
   "execution_count": 49,
   "metadata": {},
   "outputs": [],
   "source": [
    "# %% POS tag and lemmatize the loaded texts\n",
    "\n",
    "lemmatizer = nltk.stem.WordNetLemmatizer()\n",
    "\n",
    "\n",
    "def lemmatizetext(nltktexttolemmatize):\n",
    "    # Tag the text with POS tags\n",
    "    taggedtext = nltk.pos_tag(nltktexttolemmatize)\n",
    "    # Lemmatize each word text\n",
    "    lemmatizedtext = []\n",
    "    for l in range(len(taggedtext)):\n",
    "        # Lemmatize a word using the WordNet converted POS tag\n",
    "        wordtolemmatize = taggedtext[l][0]\n",
    "        wordnettag = tagtowordnet(taggedtext[l][1])\n",
    "        if wordnettag != -1:\n",
    "            lemmatizedword = lemmatizer.lemmatize(wordtolemmatize, wordnettag)\n",
    "        else:\n",
    "            lemmatizedword = wordtolemmatize\n",
    "        # Store the lemmatized word\n",
    "        lemmatizedtext.append(lemmatizedword)\n",
    "    return lemmatizedtext\n",
    "\n",
    "\n",
    "mycrawled_lemmatizedtexts = []\n",
    "for k in range(len(mycrawled_lowercasetexts)):\n",
    "    lemmatizedtext = lemmatizetext(mycrawled_lowercasetexts[k])\n",
    "    lemmatizedtext = nltk.Text(lemmatizedtext)\n",
    "    mycrawled_lemmatizedtexts.append(lemmatizedtext)"
   ]
  },
  {
   "cell_type": "code",
   "execution_count": 50,
   "metadata": {},
   "outputs": [],
   "source": [
    "# %% Find the vocabulary, in a distributed fashion\n",
    "myvocabularies = []\n",
    "myindices_in_vocabularies = []\n",
    "# Find the vocabulary of each document\n",
    "for k in range(len(mycrawled_lemmatizedtexts)):\n",
    "    # Get unique words and where they occur\n",
    "    temptext = mycrawled_lemmatizedtexts[k]\n",
    "    uniqueresults = numpy.unique(temptext, return_inverse=True)\n",
    "    uniquewords = uniqueresults[0]\n",
    "    wordindices = uniqueresults[1]\n",
    "    # Store the vocabulary and indices of document words in it\n",
    "    myvocabularies.append(uniquewords)\n",
    "    myindices_in_vocabularies.append(wordindices)"
   ]
  },
  {
   "cell_type": "code",
   "execution_count": 51,
   "metadata": {},
   "outputs": [],
   "source": [
    "# Unify the vocabularies.\n",
    "# First concatenate all vocabularies\n",
    "tempvocabulary = []\n",
    "for k in range(len(mycrawled_lemmatizedtexts)):\n",
    "    tempvocabulary.extend(myvocabularies[k])\n",
    "# Find the unique elements among all vocabularies\n",
    "uniqueresults = numpy.unique(tempvocabulary, return_inverse=True)\n",
    "unifiedvocabulary = uniqueresults[0]\n",
    "wordindices = uniqueresults[1]\n",
    "# Translate previous indices to the unified vocabulary.\n",
    "# Must keep track where each vocabulary started in\n",
    "# the concatenated one.\n",
    "vocabularystart = 0\n",
    "myindices_in_unifiedvocabulary = []\n",
    "for k in range(len(mycrawled_lemmatizedtexts)):\n",
    "    # In order to shift word indices, we must temporarily\n",
    "    # change their data type to a Numpy array\n",
    "    tempindices = numpy.array(myindices_in_vocabularies[k])\n",
    "    tempindices = tempindices + vocabularystart\n",
    "    tempindices = wordindices[tempindices]\n",
    "    myindices_in_unifiedvocabulary.append(tempindices)\n",
    "    vocabularystart = vocabularystart + len(myvocabularies[k])"
   ]
  },
  {
   "cell_type": "code",
   "execution_count": 52,
   "metadata": {},
   "outputs": [],
   "source": [
    "# %% Count the numbers of occurrences of each unique word\n",
    "# Let's count also various statistics over the documents\n",
    "unifiedvocabulary_totaloccurrencecounts = numpy.zeros((len(unifiedvocabulary), 1))\n",
    "unifiedvocabulary_documentcounts = numpy.zeros((len(unifiedvocabulary), 1))\n",
    "unifiedvocabulary_meancounts = numpy.zeros((len(unifiedvocabulary), 1))\n",
    "unifiedvocabulary_countvariances = numpy.zeros((len(unifiedvocabulary), 1))"
   ]
  },
  {
   "cell_type": "code",
   "execution_count": 53,
   "metadata": {},
   "outputs": [],
   "source": [
    "# First pass: count occurrences\n",
    "for k in range(len(mycrawled_lemmatizedtexts)):\n",
    "    occurrencecounts = numpy.zeros((len(unifiedvocabulary), 1))\n",
    "    for l in range(len(myindices_in_unifiedvocabulary[k])):\n",
    "        occurrencecounts[myindices_in_unifiedvocabulary[k][l]] = (\n",
    "            occurrencecounts[myindices_in_unifiedvocabulary[k][l]] + 1\n",
    "        )\n",
    "    unifiedvocabulary_totaloccurrencecounts = (\n",
    "        unifiedvocabulary_totaloccurrencecounts + occurrencecounts\n",
    "    )\n",
    "    unifiedvocabulary_documentcounts = unifiedvocabulary_documentcounts + (\n",
    "        occurrencecounts > 0\n",
    "    )"
   ]
  },
  {
   "cell_type": "code",
   "execution_count": 54,
   "metadata": {},
   "outputs": [
    {
     "name": "stdout",
     "output_type": "stream",
     "text": [
      "['>' 'the' ',' '.' '--' 'be' '*' 'a' 'to' 'i' ')' 'in' 'and' '(' 'of' ':'\n",
      " '@' 'have' 'that' 'it' 'you' '!' 'for' 'do' '?' 'on' '|' \"'s\" '-' \"n't\"\n",
      " 'this' \"''\" 'with' 'but' 'he' 'not' '0' 'they' '1' 'as' '<' 'at' 'if'\n",
      " 'get' '``' 'write' 'or' 'my' '...' '2' 'article' 'game' 'go' 'would' '#'\n",
      " 'can' 'about' 'one' 'will' 'all' 'there' 'an' 'what' 'from' 'out' 'so'\n",
      " 'good' 'car' 'like' 'year' 'think' 'by' 'me' 'team' 'up' 'his' '%' 'just'\n",
      " 'when' '3' 'more' 'make' 'your' 'no' 'know' 'any' 'say' 'who' 'than' '4'\n",
      " 'we' 'time' 'some' 'play' 'well' 'see' 'how' 'player' 'win' 'only']\n",
      "[40640. 40032. 39497. 39110. 35859. 27296. 20092. 17910. 17358. 15952.\n",
      " 14883. 14110. 14036. 13692. 13180. 11444.  9901.  9477.  9199.  8716.\n",
      "  7144.  7079.  7017.  6890.  6686.  6048.  6030.  5907.  4914.  4911.\n",
      "  4768.  4515.  4514.  4288.  4140.  4041.  3977.  3925.  3803.  3753.\n",
      "  3648.  3569.  3533.  3267.  3265.  3261.  3241.  3225.  2855.  2854.\n",
      "  2745.  2728.  2696.  2671.  2518.  2416.  2392.  2376.  2314.  2295.\n",
      "  2259.  2257.  2254.  2249.  2219.  2204.  2098.  2078.  2077.  2057.\n",
      "  2044.  2043.  1990.  1959.  1938.  1879.  1869.  1867.  1859.  1821.\n",
      "  1762.  1762.  1762.  1760.  1758.  1752.  1735.  1712.  1572.  1566.\n",
      "  1559.  1522.  1498.  1463.  1425.  1396.  1370.  1348.  1304.  1303.]\n"
     ]
    }
   ],
   "source": [
    "# %% Inspect frequent words\n",
    "# Sort words by largest total (or mean) occurrence count\n",
    "highest_totaloccurrences_indices = numpy.argsort(\n",
    "    -1 * unifiedvocabulary_totaloccurrencecounts, axis=0\n",
    ")\n",
    "print(numpy.squeeze(unifiedvocabulary[highest_totaloccurrences_indices[0:100]]))\n",
    "print(\n",
    "    numpy.squeeze(\n",
    "        unifiedvocabulary_totaloccurrencecounts[highest_totaloccurrences_indices[0:100]]\n",
    "    )\n",
    ")"
   ]
  },
  {
   "cell_type": "code",
   "execution_count": 55,
   "metadata": {},
   "outputs": [],
   "source": [
    "#%% Vocabulary pruning\n",
    "nltkstopwords=nltk.corpus.stopwords.words('english')\n",
    "pruningdecisions=numpy.zeros((len(unifiedvocabulary),1))\n",
    "for k in range(len(unifiedvocabulary)):\n",
    "    # Rule 1: check the nltk stop word list\n",
    "    if (unifiedvocabulary[k] in nltkstopwords):\n",
    "        pruningdecisions[k]=1\n",
    "    # Rule 2: if the word is in the top 1% of frequent words\n",
    "    if (k in highest_totaloccurrences_indices[\\\n",
    "        0:int(numpy.floor(len(unifiedvocabulary)*0.01))]):\n",
    "        pruningdecisions[k]=1\n",
    "    # Rule 3: if the word is too short\n",
    "    if len(unifiedvocabulary[k])<3:\n",
    "        pruningdecisions[k]=1\n",
    "    # Rule 4: if the word is too long\n",
    "    if len(unifiedvocabulary[k])>20:\n",
    "        pruningdecisions[k]=1\n",
    "    # Rule 5: if the word has unwanted characters\n",
    "    # (here for simplicity only a-z allowed)\n",
    "    # if unifiedvocabulary[k].isalpha()==False:\n",
    "    #     pruningdecisions[k]=1\n",
    "    # Rule 7: if the word occurs less than 4 times\n",
    "    if(unifiedvocabulary_totaloccurrencecounts[k] < 4):\n",
    "        pruningdecisions[k] = 1"
   ]
  },
  {
   "cell_type": "code",
   "execution_count": 56,
   "metadata": {},
   "outputs": [
    {
     "name": "stdout",
     "output_type": "stream",
     "text": [
      "['wheel' 'yet' 'driver' 'live' 'model' 'able' 'bit' 'ago' 'city' 'cost'\n",
      " 'total' 'mind' 'mention' 'man' 'brave' 'ford' 'penalty' 'final' 'large'\n",
      " 'anyway' 'bill' 'idea' 'coach' 'saw' 'performance' 'beat' 'version'\n",
      " 'montreal' 'rule' 'group' 'ice' 'seat' 'face' 'hitter' 'friend'\n",
      " 'although' 'almost' 'today' 'order' 'comment' 'bos' 'minute' 'stats'\n",
      " 'hold' 'det' 'follow' 'american' 'insurance' 'job' 'month' 'walk' 'local'\n",
      " 'past' 'smith' 'joe' 'honda' 'easy' 'tie' 'cal' 'news' 'hell' 'ticket'\n",
      " 'x-newsreader' 'wait' 'bring' 'hope' 'jet' 'helmet' 'stuff' 'morris'\n",
      " 'rider' 'left' 'word' 'compare' 'van' 'note' 'experience' 'york' 'center'\n",
      " 'information' 'flyer' 'add' 'rear' 'pen' 'puck' 'contact' 'set' 'defense'\n",
      " 'young' 'break' 'netcom.com' 'others' 'claim' 'later' 'e-mail' 'design'\n",
      " 'matter' 'late' 'whether' 'tor']\n",
      "[254. 253. 251. 251. 250. 249. 248. 247. 246. 246. 245. 245. 244. 244.\n",
      " 243. 241. 240. 240. 239. 237. 232. 232. 230. 229. 229. 228. 225. 224.\n",
      " 223. 222. 222. 222. 221. 221. 221. 220. 219. 219. 219. 218. 218. 217.\n",
      " 217. 216. 215. 215. 213. 213. 213. 212. 212. 211. 211. 211. 210. 210.\n",
      " 210. 210. 209. 208. 208. 207. 207. 207. 207. 205. 204. 204. 203. 202.\n",
      " 202. 201. 201. 201. 201. 201. 199. 199. 198. 197. 197. 197. 196. 196.\n",
      " 196. 196. 196. 196. 196. 196. 195. 194. 193. 193. 193. 192. 191. 191.\n",
      " 189. 189.]\n"
     ]
    }
   ],
   "source": [
    "#%% Inspect remaining frequent words\n",
    "# Sort remaining words by largest total (or mean) occurrence count\n",
    "remainingindices=numpy.squeeze(numpy.where(pruningdecisions==0)[0])\n",
    "remainingvocabulary=unifiedvocabulary[remainingindices]\n",
    "remainingvocabulary_totaloccurrencecounts= \\\n",
    "    unifiedvocabulary_totaloccurrencecounts[remainingindices]\n",
    "remaining_highest_totaloccurrences_indices= \\\n",
    "    numpy.argsort(-1*remainingvocabulary_totaloccurrencecounts,axis=0)\n",
    "print(numpy.squeeze(remainingvocabulary[remaining_highest_totaloccurrences_indices[0:100]]))\n",
    "print(numpy.squeeze(remainingvocabulary_totaloccurrencecounts[ \\\n",
    "    remaining_highest_totaloccurrences_indices[0:100]]))"
   ]
  },
  {
   "cell_type": "code",
   "execution_count": 57,
   "metadata": {},
   "outputs": [],
   "source": [
    "# %% Get indices of documents to remaining words\n",
    "oldtopruned = []\n",
    "tempind = -1\n",
    "for k in range(len(unifiedvocabulary)):\n",
    "    if pruningdecisions[k] == 0:\n",
    "        tempind = tempind + 1\n",
    "        oldtopruned.append(tempind)\n",
    "    else:\n",
    "        oldtopruned.append(-1)\n",
    "\n",
    "# %% Create pruned texts\n",
    "\n",
    "mycrawled_prunedtexts = []\n",
    "myindices_in_prunedvocabulary = []\n",
    "for k in range(len(mycrawled_lemmatizedtexts)):\n",
    "    temp_newindices = []\n",
    "    temp_newdoc = []\n",
    "    for l in range(len(mycrawled_lemmatizedtexts[k])):\n",
    "        temp_oldindex = myindices_in_unifiedvocabulary[k][l]\n",
    "        temp_newindex = oldtopruned[temp_oldindex]\n",
    "        if temp_newindex != -1:\n",
    "            temp_newindices.append(temp_newindex)\n",
    "            temp_newdoc.append(unifiedvocabulary[temp_oldindex])\n",
    "    mycrawled_prunedtexts.append(temp_newdoc)\n",
    "    myindices_in_prunedvocabulary.append(temp_newindices)"
   ]
  },
  {
   "cell_type": "markdown",
   "metadata": {},
   "source": [
    "Exercise 12.1: Paragraph embedding of four newsgroups.\n",
    "\n",
    "Using the same data as in exercise 6.1 (four newsgroups), use paragraph embedding to create a\n",
    "vector for each document, using the Python implementation discussed on the lecture (lecture 12,\n",
    "slides 12-13), or using a different language/library of your choice. \n",
    "\n",
    "Then find, by Euclidean distance, the closest other documents for the following documents: 101551\n",
    "(part of rec.autos), 103118 (part of rec.motorcycles), 98657 (part of rec.sport.baseball) and 52550\n",
    "(part of rec.sport.hockey). Are the closest documents from the same newsgroup? Does their content\n",
    "seem to match that of the original document?\n",
    "Report your code, results, and discussion."
   ]
  },
  {
   "cell_type": "code",
   "execution_count": 58,
   "metadata": {},
   "outputs": [],
   "source": [
    "import gensim\n",
    "# We need to create a tagged version of each document\n",
    "gensim_tagged_docs=[]\n",
    "gensim_docs=mycrawled_prunedtexts\n",
    "for k in range(len(mycrawled_prunedtexts)):\n",
    "    doctag='doc'+str(k)\n",
    "    tagged_document= \\\n",
    "        gensim.models.doc2vec.TaggedDocument( \\\n",
    "        mycrawled_prunedtexts[k],[doctag])\n",
    "    gensim_tagged_docs.append(tagged_document)\n",
    "# Create a dictionary from the documents\n",
    "gensim_dictionary = gensim.corpora.Dictionary(gensim_docs)"
   ]
  },
  {
   "cell_type": "code",
   "execution_count": 59,
   "metadata": {},
   "outputs": [],
   "source": [
    "# Train the word2vec model\n",
    "# The dm_concat parameter controls whether to concatenate \n",
    "# or average word vectors when learning the paragraph \n",
    "# vector  (see slides 5 and 6).\n",
    "doc2vecmodel = gensim.models.doc2vec.Doc2Vec(gensim_tagged_docs, \\\n",
    "    vector_size=10, window=5, min_count=1, \\\n",
    "    workers=4, dm_concat=0)"
   ]
  },
  {
   "cell_type": "code",
   "execution_count": 60,
   "metadata": {},
   "outputs": [
    {
     "name": "stdout",
     "output_type": "stream",
     "text": [
      "103118\n",
      "[0, 1003, 2998, 3000]\n"
     ]
    }
   ],
   "source": [
    "# 101551 (part of rec.autos), 103118 (part of rec.motorcycles), 98657 (part of rec.sport.baseball) and 52550\n",
    "# (part of rec.sport.hockey)\n",
    "# find the indices of the documents in the original list (mycrawled_filenames)\n",
    "# NOTE: I have modified the 103118 version in rec.auto into 103816\n",
    "docindices=[]\n",
    "for k in range(len(mycrawled_filenames)):\n",
    "    if mycrawled_filenames[k].find('101551')!=-1:\n",
    "        docindices.append(k)\n",
    "    if mycrawled_filenames[k].find('103118')!=-1:\n",
    "        print(mycrawled_filenames[k])\n",
    "        docindices.append(k)\n",
    "    if mycrawled_filenames[k].find('98657')!=-1:\n",
    "        docindices.append(k)\n",
    "    if mycrawled_filenames[k].find('52550')!=-1:\n",
    "        docindices.append(k)\n",
    "print(docindices)"
   ]
  },
  {
   "cell_type": "code",
   "execution_count": 64,
   "metadata": {},
   "outputs": [],
   "source": [
    "from scipy.spatial.distance import euclidean\n",
    "dist_101551_103118 = euclidean(doc2vecmodel['doc0'], doc2vecmodel['doc1003'])\n",
    "dist_101551_98657 = euclidean(doc2vecmodel['doc0'], doc2vecmodel['doc2998'])\n",
    "dist_101551_52550 = euclidean(doc2vecmodel['doc0'], doc2vecmodel['doc3000'])\n",
    "\n",
    "dist_103118_98657 = euclidean(doc2vecmodel['doc1003'], doc2vecmodel['doc2998'])\n",
    "dist_103118_52550 = euclidean(doc2vecmodel['doc1003'], doc2vecmodel['doc3000']) \n",
    "\n",
    "dist_98657_52550 = euclidean(doc2vecmodel['doc2998'], doc2vecmodel['doc3000']) "
   ]
  },
  {
   "cell_type": "code",
   "execution_count": 65,
   "metadata": {},
   "outputs": [
    {
     "name": "stdout",
     "output_type": "stream",
     "text": [
      "The distance between 101551 and 103118 is 0.8738444447517395\n",
      "The distance between 101551 and 98657 is 1.2525023221969604\n",
      "The distance between 101551 and 52550 is 1.474739670753479\n",
      "\n",
      "The distance between 103118 and 98657 is 1.5823026895523071\n",
      "The distance between 103118 and 52550 is 1.9398778676986694\n",
      "\n",
      "The distance between 98657 and 52550 is 1.0018060207366943\n"
     ]
    }
   ],
   "source": [
    "print(f\"The distance between 101551 and 103118 is {dist_101551_103118}\")\n",
    "print(f\"The distance between 101551 and 98657 is {dist_101551_98657}\")\n",
    "print(f\"The distance between 101551 and 52550 is {dist_101551_52550}\")\n",
    "print()\n",
    "print(f\"The distance between 103118 and 98657 is {dist_103118_98657}\")\n",
    "print(f\"The distance between 103118 and 52550 is {dist_103118_52550}\")\n",
    "print()\n",
    "print(f\"The distance between 98657 and 52550 is {dist_98657_52550}\")"
   ]
  },
  {
   "cell_type": "markdown",
   "metadata": {},
   "source": [
    "The closest document and the farthest document could be seen in the code above\n",
    "\n",
    "Their content seems to match that of the original document"
   ]
  }
 ],
 "metadata": {
  "kernelspec": {
   "display_name": "Python 3",
   "language": "python",
   "name": "python3"
  },
  "language_info": {
   "codemirror_mode": {
    "name": "ipython",
    "version": 3
   },
   "file_extension": ".py",
   "mimetype": "text/x-python",
   "name": "python",
   "nbconvert_exporter": "python",
   "pygments_lexer": "ipython3",
   "version": "3.11.3"
  }
 },
 "nbformat": 4,
 "nbformat_minor": 2
}
